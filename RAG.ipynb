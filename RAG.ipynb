{
 "cells": [
  {
   "cell_type": "markdown",
   "id": "1163692b-86ec-4e20-b9a6-5f457cfd7102",
   "metadata": {},
   "source": [
    "# Создание и запуск RAG"
   ]
  },
  {
   "cell_type": "markdown",
   "id": "eccd9b89-737d-4c3f-86f8-182a5cd4abf3",
   "metadata": {},
   "source": [
    "### Обработка документов"
   ]
  },
  {
   "cell_type": "markdown",
   "id": "cdfcd8f0-3095-463f-bc66-f38a18aa922c",
   "metadata": {},
   "source": [
    "**Проект посвящен созданию RAG (Retrieval-Augmented Generation) с нуля. Мы будем использовать библиотеку Transformers для загрузки языковой модели (LLM), а также рассмотрим реализацию FAISS для эффективного поиска и обработки данных.**"
   ]
  },
  {
   "cell_type": "markdown",
   "id": "8f882850-b270-424b-90fb-465fc992000f",
   "metadata": {},
   "source": [
    "**Цель проекта: помочь пользователю разобраться в интересующих его вопросах, связанных с искусством. Для этого будет использована архитектура RAG (Retrieval-Augmented Generation), которая позволит извлекать релевантную информацию из научных статей и книг. Затем языковая модель (LLM) обработает полученные данные и оформит вывод в удобном и понятном для пользователя виде.**"
   ]
  },
  {
   "cell_type": "markdown",
   "id": "cd012a61-63e0-4f1d-87dd-7144435daaa3",
   "metadata": {},
   "source": [
    "**Первым шагом загрузим все наши PDF-файлы, из которых будем извлекать необходимую информацию. Для удобства работы перенесем все файлы в список (list) в Python.**"
   ]
  },
  {
   "cell_type": "code",
   "execution_count": 1,
   "id": "452b8451-f2f0-4af5-9163-328ad9b7d8ba",
   "metadata": {},
   "outputs": [
    {
     "name": "stdout",
     "output_type": "stream",
     "text": [
      "['Gardners Art Through the Ages The Western Perspective, Volume I,.pdf', 'History_of_Art.pdf', 'Transformative Art Movements and the Paintings That Inspired Them - 2013.pdf', 'Vasari Giorgio_The_Lives_of_the_Artists_Oxford.pdf']\n"
     ]
    }
   ],
   "source": [
    "import os\n",
    "from tqdm.auto import tqdm\n",
    "\n",
    "import warnings\n",
    "warnings.filterwarnings('ignore')\n",
    "\n",
    "pdf_list = []\n",
    "\n",
    "for pdf in os.listdir('Art'): # место хранения данных\n",
    "    if os.path.isfile(os.path.join('Art', pdf)): # место хранения данных\n",
    "        pdf_list.append(pdf)\n",
    "\n",
    "print(pdf_list)"
   ]
  },
  {
   "cell_type": "markdown",
   "id": "65910360-9272-46ac-88c9-03f791a2806e",
   "metadata": {},
   "source": [
    "**Для преобразования страниц PDF в текст воспользуемся библиотекой Fitz (также известной как PyMuPDF). Дополнительно добавим метаданные, такие как номер страницы и название документа, чтобы упростить дальнейший анализ и обработку данных.**"
   ]
  },
  {
   "cell_type": "code",
   "execution_count": 2,
   "id": "0c93bcbc-fe9c-40ab-8b18-cd48d10c8ecf",
   "metadata": {
    "scrolled": true
   },
   "outputs": [
    {
     "data": {
      "application/vnd.jupyter.widget-view+json": {
       "model_id": "a5717b9dbda84ddd8c0ad9f9123c867a",
       "version_major": 2,
       "version_minor": 0
      },
      "text/plain": [
       "0it [00:00, ?it/s]"
      ]
     },
     "metadata": {},
     "output_type": "display_data"
    },
    {
     "data": {
      "application/vnd.jupyter.widget-view+json": {
       "model_id": "8dc9187432394adb989273772219e088",
       "version_major": 2,
       "version_minor": 0
      },
      "text/plain": [
       "0it [00:00, ?it/s]"
      ]
     },
     "metadata": {},
     "output_type": "display_data"
    },
    {
     "data": {
      "application/vnd.jupyter.widget-view+json": {
       "model_id": "88bf9a703259459b83fffc02cd97210d",
       "version_major": 2,
       "version_minor": 0
      },
      "text/plain": [
       "0it [00:00, ?it/s]"
      ]
     },
     "metadata": {},
     "output_type": "display_data"
    },
    {
     "data": {
      "application/vnd.jupyter.widget-view+json": {
       "model_id": "6eb117675fc84492b5a419830d6e2f7e",
       "version_major": 2,
       "version_minor": 0
      },
      "text/plain": [
       "0it [00:00, ?it/s]"
      ]
     },
     "metadata": {},
     "output_type": "display_data"
    },
    {
     "data": {
      "text/plain": [
       "[{'pdf_file': 'Gardners Art Through the Ages The Western Perspective, Volume I,.pdf',\n",
       "  'page_number': 6,\n",
       "  'page_char_count': 1905,\n",
       "  'page_word_count': 328,\n",
       "  'page_sentence_count_raw': 6,\n",
       "  'page_token_count': 476.25,\n",
       "  'text': 'v CONTENTS Preface xi INTRODUCTION What Is Art History? 1 Art History in the 21st Century 2 Different Ways of Seeing 13 1 Art in the Stone Age 15 FRAMING THE ERA The Dawn of Art 15 TIMELINE 16 Paleolithic Art 16 Neolithic Art 23 ■ PROBLEMS AND SOLUTIONS: How to Represent an Animal 17 ■ PROBLEMS AND SOLUTIONS: Painting in the Dark 20 ■ A SECOND OPINION: The Meaning of Paleolithic Art 21 ■ ART AND SOCIETY: The Neolithic Temple at Göbekli Tepe 24 MAP 1-1 Stone Age sites in Europe 16 MAP 1-2 Neolithic sites in Anatolia and Mesopotamia 24 THE BIG PICTURE 29 2 Ancient Mesopotamia and Persia 31 FRAMING THE ERA Pictorial Narration in Ancient Sumer 31 TIMELINE 32 Mesopotamia 32 Persia 50 ■ RELIGION AND MYTHOLOGY: The Gods and Goddesses of Mesopotamia 34 ■ PROBLEMS AND SOLUTIONS: Sumerian Votive Statuary 35 ■ MATERIALS AND TECHNIQUES: Mesopotamian Seals 37 ■ A SECOND OPINION: The Standard of Ur 38 ■ ART AND SOCIETY: Enheduanna, Priestess and Poet 42 ■ THE PATRON’S VOICE: Gudea of Lagash 43 ■ ART AND SOCIETY: Hammurabi’s Laws 45 ■ PROBLEMS AND SOLUTIONS: How Many Legs Does a Lamassu Have? 47 ■ WRITTEN SOURCES: Babylon, City of Wonders 50 MAP 2-1 Ancient Mesopotamia and Persia 32 THE BIG PICTURE 55 3 Egypt from Narmer to Cleopatra 57 FRAMING THE ERA Life after Death in Ancient Egypt 57 TIMELINE 58 Egypt and Egyptology 58 Predynastic and Early Dynastic Periods 58 Old Kingdom 62 Middle Kingdom 69 New Kingdom 71 First Millennium bce 81 Copyright 2021 Cengage Learning. All Rights Reserved. May not be copied, scanned, or duplicated, in whole or in part. Due to electronic rights, some third party content may be suppressed from the eBook and/or eChapter(s). Editorial review has deemed that any suppressed content does not materially affect the overall learning experience. Cengage Learning reserves the right to remove additional content at any time if subsequent rights restrictions require it.'},\n",
       " {'pdf_file': 'Gardners Art Through the Ages The Western Perspective, Volume I,.pdf',\n",
       "  'page_number': 7,\n",
       "  'page_char_count': 3041,\n",
       "  'page_word_count': 503,\n",
       "  'page_sentence_count_raw': 6,\n",
       "  'page_token_count': 760.25,\n",
       "  'text': 'vi Contents ■ RELIGION AND MYTHOLOGY: The Gods and Goddesses of Mount Olympus 107 ■ MATERIALS AND TECHNIQUES: Greek Vase Painting 110 ■ ARCHITECTURAL BASICS: Greek Temple Plans 115 ■ ARCHITECTURAL BASICS: Doric and Ionic Orders 116 ■ PROBLEMS AND SOLUTIONS: The Invention of Red-Figure Painting 121 ■ RELIGION AND MYTHOLOGY: Herakles, the Greatest Greek Hero 126 ■ MATERIALS AND TECHNIQUES: Hollow-Casting Life-Size Bronze Statues 129 ■ PROBLEMS AND SOLUTIONS: Polykleitos’s Prescription for the Perfect Statue 131 ■ ART AND SOCIETY: The Hegeso Stele 141 ■ MATERIALS AND TECHNIQUES: White-Ground Painting 142 ■ A SECOND OPINION: The Alexander Mosaic 150 ■ ARCHITECTURAL BASICS: The Corinthian Capital 152 ■ PROBLEMS AND SOLUTIONS: Hippodamos’s Plan for the Ideal City 154 MAP 5-1 The Greek world 106 THE BIG PICTURE 163 6 The Etruscans 165 FRAMING THE ERA The Portal to the Etruscan \\xadAfterlife 165 TIMELINE 166 Etruria and the Etruscans 166 Early Etruscan Art 166 Later Etruscan Art 173 ■ RELIGION AND MYTHOLOGY: Etruscan Counterparts of Greco-Roman Gods and Heroes 167 ■ WRITTEN SOURCES: Etruscan Artists in Rome 168 ■ ART AND SOCIETY: The “Audacity” of Etruscan Women 169 ■ PROBLEMS AND SOLUTIONS: Houses of the Dead in a City of the Dead 170 ■ A SECOND OPINION: The Capitoline Wolf 174 MAP 6-1 Italy in Etruscan times 166 THE BIG PICTURE 179 7 The Roman Empire 181 FRAMING THE ERA The Roman Emperor as World Conqueror 181 TIMELINE 182 ■ RELIGION AND MYTHOLOGY: The Gods and Goddesses of Egypt 60 ■ ART AND SOCIETY: Mummification and Immortality 61 ■ PROBLEMS AND SOLUTIONS: Building the Pyramids of Gizeh 64 ■ PROBLEMS AND SOLUTIONS: How to Portray a God-King 66 ■ ART AND SOCIETY: Hatshepsut, the Woman Who Would Be King 72 ■ PROBLEMS AND SOLUTIONS: Illuminating Buildings before Lightbulbs 75 ■ A SECOND OPINION: Akhenaton 77 MAP 3-1 Ancient Egypt 58 THE BIG PICTURE 83 4 The Prehistoric Aegean 85 FRAMING THE ERA Greece in the Age of Heroes 85 TIMELINE 86 Greece before Homer 86 Cycladic Art 87 Minoan Art 88 Mycenaean Art 97 ■ A SECOND OPINION: Cycladic Statuettes 87 ■ ART AND SOCIETY: The Theran Eruption and the Chronology of Aegean Art 92 ■ PROBLEMS AND SOLUTIONS: Fortified Palaces for a Hostile World 96 ■ ARCHITECTURAL BASICS: Corbeled Arches, Vaults, and Domes 97 MAP 4-1 The prehistoric Aegean 86 THE BIG PICTURE 103 5 Ancient Greece 105 FRAMING THE ERA The Perfect Temple 105 TIMELINE 106 The Greeks and Their Gods 106 Geometric and Orientalizing Periods 108 Archaic Period 111 Early and High Classical Periods 125 Late Classical Period 144 Hellenistic Period 153 Copyright 2021 Cengage Learning. All Rights Reserved. May not be copied, scanned, or duplicated, in whole or in part. Due to electronic rights, some third party content may be suppressed from the eBook and/or eChapter(s). Editorial review has deemed that any suppressed content does not materially affect the overall learning experience. Cengage Learning reserves the right to remove additional content at any time if subsequent rights restrictions require it.'}]"
      ]
     },
     "execution_count": 2,
     "metadata": {},
     "output_type": "execute_result"
    }
   ],
   "source": [
    "import fitz\n",
    "import re\n",
    "\n",
    "# Избавляемся от ненужных форматов\n",
    "def formatting_text(text: str) -> str:\n",
    "    text = text.replace('\\n', ' ').strip()\n",
    "    text = re.sub(r'[\\u2002\\u2003\\xa0]', ' ', text)\n",
    "    text = re.sub(r'\\s+', ' ', text)\n",
    "    return text\n",
    "\n",
    "def open_and_read_pdf(pdf_list: list) -> list[dict]:\n",
    "    pdf_file = 0\n",
    "    pages_and_texts = []\n",
    "    \n",
    "    for pdf_path in pdf_list:\n",
    "        doc = fitz.open('Art/' + pdf_path) # место хранения данных\n",
    "        pdf_file += 1\n",
    "        \n",
    "        for page_number, page in tqdm(enumerate(doc)):\n",
    "            text = page.get_text()\n",
    "            text = formatting_text(text)\n",
    "            replacements = {\n",
    "                r'\\x11': '',\n",
    "                r'[A-Z](\\| |\\|)': ' ',\n",
    "                r'\\ue004': ' '}\n",
    "            for pattern, replacement in replacements.items():\n",
    "                text = re.sub(pattern, replacement, text)\n",
    "            pages_and_texts.append({\n",
    "                'pdf_file': pdf_path, # название файла\n",
    "                'page_number': page_number, # номер страницы\n",
    "                'page_char_count': len(text), # количество символов \n",
    "                'page_word_count': len(text.split(' ')), # количество слов\n",
    "                'page_sentence_count_raw': len(text.split('. ')), # количество предложений\n",
    "                'page_token_count': len(text) / 4, # количество токенов\n",
    "                'text': text}) # текст\n",
    "            \n",
    "    return pages_and_texts\n",
    "\n",
    "pages_and_texts = open_and_read_pdf(pdf_list=pdf_list)\n",
    "pages_and_texts[6:8]"
   ]
  },
  {
   "cell_type": "markdown",
   "id": "62c98273-484c-45a0-a6c5-c84bb8a856be",
   "metadata": {},
   "source": [
    "**Преобразуем полученные данные в DataFrame с помощью библиотеки pandas. Это позволит нам удобно структурировать информацию, а также провести анализ и просмотреть статистические данные о нашем наборе.**"
   ]
  },
  {
   "cell_type": "code",
   "execution_count": 3,
   "id": "4ae2935e-de3e-46d4-931d-9228e8488567",
   "metadata": {},
   "outputs": [
    {
     "data": {
      "text/html": [
       "<div>\n",
       "<style scoped>\n",
       "    .dataframe tbody tr th:only-of-type {\n",
       "        vertical-align: middle;\n",
       "    }\n",
       "\n",
       "    .dataframe tbody tr th {\n",
       "        vertical-align: top;\n",
       "    }\n",
       "\n",
       "    .dataframe thead th {\n",
       "        text-align: right;\n",
       "    }\n",
       "</style>\n",
       "<table border=\"1\" class=\"dataframe\">\n",
       "  <thead>\n",
       "    <tr style=\"text-align: right;\">\n",
       "      <th></th>\n",
       "      <th>pdf_file</th>\n",
       "      <th>page_number</th>\n",
       "      <th>page_char_count</th>\n",
       "      <th>page_word_count</th>\n",
       "      <th>page_sentence_count_raw</th>\n",
       "      <th>page_token_count</th>\n",
       "      <th>text</th>\n",
       "    </tr>\n",
       "  </thead>\n",
       "  <tbody>\n",
       "    <tr>\n",
       "      <th>1057</th>\n",
       "      <td>Gardners Art Through the Ages The Western Pers...</td>\n",
       "      <td>1057</td>\n",
       "      <td>6176</td>\n",
       "      <td>919</td>\n",
       "      <td>143</td>\n",
       "      <td>1544.00</td>\n",
       "      <td>BIBLIOGRAPHY This list of books is very select...</td>\n",
       "    </tr>\n",
       "    <tr>\n",
       "      <th>1553</th>\n",
       "      <td>History_of_Art.pdf</td>\n",
       "      <td>461</td>\n",
       "      <td>3999</td>\n",
       "      <td>672</td>\n",
       "      <td>37</td>\n",
       "      <td>999.75</td>\n",
       "      <td>decorative gold background and an architectura...</td>\n",
       "    </tr>\n",
       "    <tr>\n",
       "      <th>1574</th>\n",
       "      <td>History_of_Art.pdf</td>\n",
       "      <td>482</td>\n",
       "      <td>2132</td>\n",
       "      <td>354</td>\n",
       "      <td>19</td>\n",
       "      <td>533.00</td>\n",
       "      <td>13.2). Of Giotto s surviving murals, those in ...</td>\n",
       "    </tr>\n",
       "    <tr>\n",
       "      <th>2434</th>\n",
       "      <td>Transformative Art Movements and the Paintings...</td>\n",
       "      <td>158</td>\n",
       "      <td>3379</td>\n",
       "      <td>550</td>\n",
       "      <td>26</td>\n",
       "      <td>844.75</td>\n",
       "      <td>157 CONTEXT Piety and passion IN COMPARISON WI...</td>\n",
       "    </tr>\n",
       "    <tr>\n",
       "      <th>3188</th>\n",
       "      <td>Vasari Giorgio_The_Lives_of_the_Artists_Oxford...</td>\n",
       "      <td>510</td>\n",
       "      <td>2284</td>\n",
       "      <td>400</td>\n",
       "      <td>4</td>\n",
       "      <td>571.00</td>\n",
       "      <td>484 MICHELANGELO to write and deliver the fune...</td>\n",
       "    </tr>\n",
       "  </tbody>\n",
       "</table>\n",
       "</div>"
      ],
      "text/plain": [
       "                                               pdf_file  page_number  \\\n",
       "1057  Gardners Art Through the Ages The Western Pers...         1057   \n",
       "1553                                 History_of_Art.pdf          461   \n",
       "1574                                 History_of_Art.pdf          482   \n",
       "2434  Transformative Art Movements and the Paintings...          158   \n",
       "3188  Vasari Giorgio_The_Lives_of_the_Artists_Oxford...          510   \n",
       "\n",
       "      page_char_count  page_word_count  page_sentence_count_raw  \\\n",
       "1057             6176              919                      143   \n",
       "1553             3999              672                       37   \n",
       "1574             2132              354                       19   \n",
       "2434             3379              550                       26   \n",
       "3188             2284              400                        4   \n",
       "\n",
       "      page_token_count                                               text  \n",
       "1057           1544.00  BIBLIOGRAPHY This list of books is very select...  \n",
       "1553            999.75  decorative gold background and an architectura...  \n",
       "1574            533.00  13.2). Of Giotto s surviving murals, those in ...  \n",
       "2434            844.75  157 CONTEXT Piety and passion IN COMPARISON WI...  \n",
       "3188            571.00  484 MICHELANGELO to write and deliver the fune...  "
      ]
     },
     "execution_count": 3,
     "metadata": {},
     "output_type": "execute_result"
    }
   ],
   "source": [
    "import pandas as pd\n",
    "\n",
    "df = pd.DataFrame(pages_and_texts)\n",
    "df.sample(5)"
   ]
  },
  {
   "cell_type": "code",
   "execution_count": 4,
   "id": "187381df-741c-41fd-8e31-796dff226ea0",
   "metadata": {},
   "outputs": [
    {
     "data": {
      "text/html": [
       "<div>\n",
       "<style scoped>\n",
       "    .dataframe tbody tr th:only-of-type {\n",
       "        vertical-align: middle;\n",
       "    }\n",
       "\n",
       "    .dataframe tbody tr th {\n",
       "        vertical-align: top;\n",
       "    }\n",
       "\n",
       "    .dataframe thead th {\n",
       "        text-align: right;\n",
       "    }\n",
       "</style>\n",
       "<table border=\"1\" class=\"dataframe\">\n",
       "  <thead>\n",
       "    <tr style=\"text-align: right;\">\n",
       "      <th></th>\n",
       "      <th>page_number</th>\n",
       "      <th>page_char_count</th>\n",
       "      <th>page_word_count</th>\n",
       "      <th>page_sentence_count_raw</th>\n",
       "      <th>page_token_count</th>\n",
       "    </tr>\n",
       "  </thead>\n",
       "  <tbody>\n",
       "    <tr>\n",
       "      <th>count</th>\n",
       "      <td>3302.00</td>\n",
       "      <td>3302.00</td>\n",
       "      <td>3302.00</td>\n",
       "      <td>3302.00</td>\n",
       "      <td>3302.00</td>\n",
       "    </tr>\n",
       "    <tr>\n",
       "      <th>mean</th>\n",
       "      <td>475.77</td>\n",
       "      <td>3329.10</td>\n",
       "      <td>541.48</td>\n",
       "      <td>28.81</td>\n",
       "      <td>832.28</td>\n",
       "    </tr>\n",
       "    <tr>\n",
       "      <th>std</th>\n",
       "      <td>321.39</td>\n",
       "      <td>2035.33</td>\n",
       "      <td>320.31</td>\n",
       "      <td>33.24</td>\n",
       "      <td>508.83</td>\n",
       "    </tr>\n",
       "    <tr>\n",
       "      <th>min</th>\n",
       "      <td>0.00</td>\n",
       "      <td>0.00</td>\n",
       "      <td>1.00</td>\n",
       "      <td>1.00</td>\n",
       "      <td>0.00</td>\n",
       "    </tr>\n",
       "    <tr>\n",
       "      <th>25%</th>\n",
       "      <td>206.00</td>\n",
       "      <td>2157.50</td>\n",
       "      <td>355.00</td>\n",
       "      <td>11.00</td>\n",
       "      <td>539.38</td>\n",
       "    </tr>\n",
       "    <tr>\n",
       "      <th>50%</th>\n",
       "      <td>416.00</td>\n",
       "      <td>2966.00</td>\n",
       "      <td>485.00</td>\n",
       "      <td>24.00</td>\n",
       "      <td>741.50</td>\n",
       "    </tr>\n",
       "    <tr>\n",
       "      <th>75%</th>\n",
       "      <td>724.75</td>\n",
       "      <td>4360.00</td>\n",
       "      <td>705.75</td>\n",
       "      <td>39.00</td>\n",
       "      <td>1090.00</td>\n",
       "    </tr>\n",
       "    <tr>\n",
       "      <th>max</th>\n",
       "      <td>1183.00</td>\n",
       "      <td>16445.00</td>\n",
       "      <td>2640.00</td>\n",
       "      <td>409.00</td>\n",
       "      <td>4111.25</td>\n",
       "    </tr>\n",
       "  </tbody>\n",
       "</table>\n",
       "</div>"
      ],
      "text/plain": [
       "       page_number  page_char_count  page_word_count  page_sentence_count_raw  \\\n",
       "count      3302.00          3302.00          3302.00                  3302.00   \n",
       "mean        475.77          3329.10           541.48                    28.81   \n",
       "std         321.39          2035.33           320.31                    33.24   \n",
       "min           0.00             0.00             1.00                     1.00   \n",
       "25%         206.00          2157.50           355.00                    11.00   \n",
       "50%         416.00          2966.00           485.00                    24.00   \n",
       "75%         724.75          4360.00           705.75                    39.00   \n",
       "max        1183.00         16445.00          2640.00                   409.00   \n",
       "\n",
       "       page_token_count  \n",
       "count           3302.00  \n",
       "mean             832.28  \n",
       "std              508.83  \n",
       "min                0.00  \n",
       "25%              539.38  \n",
       "50%              741.50  \n",
       "75%             1090.00  \n",
       "max             4111.25  "
      ]
     },
     "execution_count": 4,
     "metadata": {},
     "output_type": "execute_result"
    }
   ],
   "source": [
    "df.describe().round(2)"
   ]
  },
  {
   "cell_type": "markdown",
   "id": "5ddda4a0-fed2-4aa5-b9f2-b1f92e039db7",
   "metadata": {},
   "source": [
    "**Круто, теперь у нас есть DataFrame, в котором много информации о тексте. NLP инженеры очень любят большое колличество информации о тексте!**"
   ]
  },
  {
   "cell_type": "markdown",
   "id": "c5967278-5e65-4df6-a0da-10b5e1d67c6b",
   "metadata": {},
   "source": [
    "**Давайте теперь разобъем текст на чанки. Для начала, нам нужно сделать предложения. Для этого воспользуемся sentenizer'ом от spacy.**"
   ]
  },
  {
   "cell_type": "code",
   "execution_count": 5,
   "id": "f9242c42-ea5b-494b-b5e0-e3923ffe4e41",
   "metadata": {},
   "outputs": [
    {
     "data": {
      "application/vnd.jupyter.widget-view+json": {
       "model_id": "b2364117324e48439516771f550afcfd",
       "version_major": 2,
       "version_minor": 0
      },
      "text/plain": [
       "  0%|          | 0/3302 [00:00<?, ?it/s]"
      ]
     },
     "metadata": {},
     "output_type": "display_data"
    }
   ],
   "source": [
    "from spacy.lang.en import English\n",
    "\n",
    "nlp = English()\n",
    "nlp.add_pipe('sentencizer')\n",
    "\n",
    "for item in tqdm(pages_and_texts):\n",
    "    item['sentences'] = list(nlp(item['text']).sents)\n",
    "    item['sentences'] = [str(sentence) for sentence in item['sentences']]\n",
    "    item['page_sentences_count_spacy'] = len(item['sentences'])"
   ]
  },
  {
   "cell_type": "code",
   "execution_count": 6,
   "id": "3546660b-8c98-4488-8332-bd2244934695",
   "metadata": {},
   "outputs": [
    {
     "data": {
      "text/html": [
       "<div>\n",
       "<style scoped>\n",
       "    .dataframe tbody tr th:only-of-type {\n",
       "        vertical-align: middle;\n",
       "    }\n",
       "\n",
       "    .dataframe tbody tr th {\n",
       "        vertical-align: top;\n",
       "    }\n",
       "\n",
       "    .dataframe thead th {\n",
       "        text-align: right;\n",
       "    }\n",
       "</style>\n",
       "<table border=\"1\" class=\"dataframe\">\n",
       "  <thead>\n",
       "    <tr style=\"text-align: right;\">\n",
       "      <th></th>\n",
       "      <th>page_number</th>\n",
       "      <th>page_char_count</th>\n",
       "      <th>page_word_count</th>\n",
       "      <th>page_sentence_count_raw</th>\n",
       "      <th>page_token_count</th>\n",
       "      <th>page_sentences_count_spacy</th>\n",
       "    </tr>\n",
       "  </thead>\n",
       "  <tbody>\n",
       "    <tr>\n",
       "      <th>count</th>\n",
       "      <td>3302.00</td>\n",
       "      <td>3302.00</td>\n",
       "      <td>3302.00</td>\n",
       "      <td>3302.00</td>\n",
       "      <td>3302.00</td>\n",
       "      <td>3302.00</td>\n",
       "    </tr>\n",
       "    <tr>\n",
       "      <th>mean</th>\n",
       "      <td>475.77</td>\n",
       "      <td>3329.10</td>\n",
       "      <td>541.48</td>\n",
       "      <td>28.81</td>\n",
       "      <td>832.28</td>\n",
       "      <td>27.78</td>\n",
       "    </tr>\n",
       "    <tr>\n",
       "      <th>std</th>\n",
       "      <td>321.39</td>\n",
       "      <td>2035.33</td>\n",
       "      <td>320.31</td>\n",
       "      <td>33.24</td>\n",
       "      <td>508.83</td>\n",
       "      <td>27.95</td>\n",
       "    </tr>\n",
       "    <tr>\n",
       "      <th>min</th>\n",
       "      <td>0.00</td>\n",
       "      <td>0.00</td>\n",
       "      <td>1.00</td>\n",
       "      <td>1.00</td>\n",
       "      <td>0.00</td>\n",
       "      <td>0.00</td>\n",
       "    </tr>\n",
       "    <tr>\n",
       "      <th>25%</th>\n",
       "      <td>206.00</td>\n",
       "      <td>2157.50</td>\n",
       "      <td>355.00</td>\n",
       "      <td>11.00</td>\n",
       "      <td>539.38</td>\n",
       "      <td>11.00</td>\n",
       "    </tr>\n",
       "    <tr>\n",
       "      <th>50%</th>\n",
       "      <td>416.00</td>\n",
       "      <td>2966.00</td>\n",
       "      <td>485.00</td>\n",
       "      <td>24.00</td>\n",
       "      <td>741.50</td>\n",
       "      <td>23.50</td>\n",
       "    </tr>\n",
       "    <tr>\n",
       "      <th>75%</th>\n",
       "      <td>724.75</td>\n",
       "      <td>4360.00</td>\n",
       "      <td>705.75</td>\n",
       "      <td>39.00</td>\n",
       "      <td>1090.00</td>\n",
       "      <td>38.00</td>\n",
       "    </tr>\n",
       "    <tr>\n",
       "      <th>max</th>\n",
       "      <td>1183.00</td>\n",
       "      <td>16445.00</td>\n",
       "      <td>2640.00</td>\n",
       "      <td>409.00</td>\n",
       "      <td>4111.25</td>\n",
       "      <td>356.00</td>\n",
       "    </tr>\n",
       "  </tbody>\n",
       "</table>\n",
       "</div>"
      ],
      "text/plain": [
       "       page_number  page_char_count  page_word_count  page_sentence_count_raw  \\\n",
       "count      3302.00          3302.00          3302.00                  3302.00   \n",
       "mean        475.77          3329.10           541.48                    28.81   \n",
       "std         321.39          2035.33           320.31                    33.24   \n",
       "min           0.00             0.00             1.00                     1.00   \n",
       "25%         206.00          2157.50           355.00                    11.00   \n",
       "50%         416.00          2966.00           485.00                    24.00   \n",
       "75%         724.75          4360.00           705.75                    39.00   \n",
       "max        1183.00         16445.00          2640.00                   409.00   \n",
       "\n",
       "       page_token_count  page_sentences_count_spacy  \n",
       "count           3302.00                     3302.00  \n",
       "mean             832.28                       27.78  \n",
       "std              508.83                       27.95  \n",
       "min                0.00                        0.00  \n",
       "25%              539.38                       11.00  \n",
       "50%              741.50                       23.50  \n",
       "75%             1090.00                       38.00  \n",
       "max             4111.25                      356.00  "
      ]
     },
     "execution_count": 6,
     "metadata": {},
     "output_type": "execute_result"
    }
   ],
   "source": [
    "df = pd.DataFrame(pages_and_texts)\n",
    "df.describe().round(2)"
   ]
  },
  {
   "cell_type": "markdown",
   "id": "f73edfb7-2767-490b-bc5a-c5c741488ec0",
   "metadata": {},
   "source": [
    "**Отлично! Продолжаем работу, разбивая текст на чанки. В данном случае мы остановимся на разбиении по 9 предложений в одном чанке. Такой выбор является оптимальным, поскольку в дальнейшем мы будем использовать модель all-mpnet-base-v2 для создания эмбеддингов, а этот размер чанков обеспечивает баланс между сохранением контекста и эффективностью обработки.**"
   ]
  },
  {
   "cell_type": "code",
   "execution_count": 7,
   "id": "cdab9c20-277c-43bd-955f-8d8143db1052",
   "metadata": {},
   "outputs": [
    {
     "data": {
      "application/vnd.jupyter.widget-view+json": {
       "model_id": "668353bc91804cf08575c1d86fdd043d",
       "version_major": 2,
       "version_minor": 0
      },
      "text/plain": [
       "  0%|          | 0/3302 [00:00<?, ?it/s]"
      ]
     },
     "metadata": {},
     "output_type": "display_data"
    }
   ],
   "source": [
    "num_sentence_chunk_size = 9\n",
    "\n",
    "def split_list(slice_size: int, input_list: list) -> list[list[str]]:\n",
    "    return [input_list[i::i + slice_size] for i in range(0, len(input_list), slice_size)]\n",
    "\n",
    "for item in tqdm(pages_and_texts):\n",
    "    item['sentence_chunks'] = split_list(slice_size=num_sentence_chunk_size,\n",
    "                                        input_list=item['sentences'])\n",
    "    item['num_chunks'] = len(item['sentence_chunks'])"
   ]
  },
  {
   "cell_type": "code",
   "execution_count": 8,
   "id": "01df0c77-9a1d-4eb6-8e5c-731aab154dc8",
   "metadata": {
    "scrolled": true
   },
   "outputs": [
    {
     "data": {
      "text/plain": [
       "{'pdf_file': 'Gardners Art Through the Ages The Western Perspective, Volume I,.pdf',\n",
       " 'page_number': 18,\n",
       " 'page_char_count': 3853,\n",
       " 'page_word_count': 638,\n",
       " 'page_sentence_count_raw': 32,\n",
       " 'page_token_count': 963.25,\n",
       " 'text': '1 What is art history? Except when referring to the modern academic discipline, people do not often \\xadjuxtapose the words art and history. They tend to think of history as the record and interpretation of past human events, particularly social and political events. By contrast, most think of art, quite cor- rectly, as part of the present—as something people can see and touch. Of course, people cannot see or touch history’s vanished human events, but a visible, tangible artwork is a kind of persisting event. One or more artists made it at a certain time and in a specific place, even if no one now knows who, when, where, or why. Although created in the past, an artwork continues to exist in the present, long surviv- ing its times. The earliest known paintings and sculptures were created almost 40,000 years ago, but they can be viewed today, often in glass cases in museums built only during the past few years. Modern museum visitors can admire these objects from the remote past and countless others pro- duced over the millennia—whether a large painting on canvas by a 17th-century French artist (fig. I-12), a wood portrait from an ancient Egyptian tomb (fig. I-15), an illustrated book by a medieval German monk (fig. I-8), or an 18th-century bronze altar glorifying an African king (fig. I-1)—without any knowledge of the circumstances leading to the creation of those works. The beauty or sheer size of an object can impress people, the artist’s virtuosity in the handling of ordinary or costly materials can dazzle them, or the subject depicted can move them emotionally. Viewers can react to what they see, interpret the work in the light of their own experience, and judge it a success or a failure. These are all valid aesthetic responses. (Aesthetics is the branch of philosophy that addresses the nature of beauty, especially in art.) But the enjoyment and appreciation of artworks in museum settings are relatively recent phenomena, as is the creation of artworks solely for museum-going audiences to view. Today, it is common for artists to work in private studios and to create paintings, sculptures, and other objects to be offered for sale by commercial art galleries. This is what American artist Clyfford Still (1904–1980) did when he created his series of paintings (fig. I-2) of pure color titled simply with the year of their creation. Usually, someone whom the artist has never met will purchase the artwork and display it in a setting that the artist has never seen. This practice is not a new phenomenon in the history of art—an ancient potter decorating a vase for sale at a village market stall probably did not know who would buy the pot or where it would be housed—but it is not at all typical. In fact, it is exceptional. Throughout history, most artists created paintings, sculptures, and other objects for specific patrons and settings and to fulfill a specific purpose, even if today no one knows the original contexts of those artworks. A museum visitor can appreciate the visual and tactile qualities of these objects, but without knowing the circumstances of their creation, that modern viewer cannot understand why they were made or why they appear as they do. Art appreciation and aesthetic judgments in general do not require knowledge of the historical context of an artwork (or a building). Art history does. WHAT IS ART HISTORY? introduction Copyright 2021 Cengage Learning. All Rights Reserved. May not be copied, scanned, or duplicated, in whole or in part. Due to electronic rights, some third party content may be suppressed from the eBook and/or eChapter(s). Editorial review has deemed that any suppressed content does not materially affect the overall learning experience. Cengage Learning reserves the right to remove additional content at any time if subsequent rights restrictions require it.',\n",
       " 'sentences': ['1 What is art history?',\n",
       "  'Except when referring to the modern academic discipline, people do not often \\xadjuxtapose the words art and history.',\n",
       "  'They tend to think of history as the record and interpretation of past human events, particularly social and political events.',\n",
       "  'By contrast, most think of art, quite cor- rectly, as part of the present—as something people can see and touch.',\n",
       "  'Of course, people cannot see or touch history’s vanished human events, but a visible, tangible artwork is a kind of persisting event.',\n",
       "  'One or more artists made it at a certain time and in a specific place, even if no one now knows who, when, where, or why.',\n",
       "  'Although created in the past, an artwork continues to exist in the present, long surviv- ing its times.',\n",
       "  'The earliest known paintings and sculptures were created almost 40,000 years ago, but they can be viewed today, often in glass cases in museums built only during the past few years.',\n",
       "  'Modern museum visitors can admire these objects from the remote past and countless others pro- duced over the millennia—whether a large painting on canvas by a 17th-century French artist (fig.',\n",
       "  'I-12), a wood portrait from an ancient Egyptian tomb (fig.',\n",
       "  'I-15), an illustrated book by a medieval German monk (fig.',\n",
       "  'I-8), or an 18th-century bronze altar glorifying an African king (fig.',\n",
       "  'I-1)—without any knowledge of the circumstances leading to the creation of those works.',\n",
       "  'The beauty or sheer size of an object can impress people, the artist’s virtuosity in the handling of ordinary or costly materials can dazzle them, or the subject depicted can move them emotionally.',\n",
       "  'Viewers can react to what they see, interpret the work in the light of their own experience, and judge it a success or a failure.',\n",
       "  'These are all valid aesthetic responses. (',\n",
       "  'Aesthetics is the branch of philosophy that addresses the nature of beauty, especially in art.)',\n",
       "  'But the enjoyment and appreciation of artworks in museum settings are relatively recent phenomena, as is the creation of artworks solely for museum-going audiences to view.',\n",
       "  'Today, it is common for artists to work in private studios and to create paintings, sculptures, and other objects to be offered for sale by commercial art galleries.',\n",
       "  'This is what American artist Clyfford Still (1904–1980) did when he created his series of paintings (fig.',\n",
       "  'I-2) of pure color titled simply with the year of their creation.',\n",
       "  'Usually, someone whom the artist has never met will purchase the artwork and display it in a setting that the artist has never seen.',\n",
       "  'This practice is not a new phenomenon in the history of art—an ancient potter decorating a vase for sale at a village market stall probably did not know who would buy the pot or where it would be housed—but it is not at all typical.',\n",
       "  'In fact, it is exceptional.',\n",
       "  'Throughout history, most artists created paintings, sculptures, and other objects for specific patrons and settings and to fulfill a specific purpose, even if today no one knows the original contexts of those artworks.',\n",
       "  'A museum visitor can appreciate the visual and tactile qualities of these objects, but without knowing the circumstances of their creation, that modern viewer cannot understand why they were made or why they appear as they do.',\n",
       "  'Art appreciation and aesthetic judgments in general do not require knowledge of the historical context of an artwork (or a building).',\n",
       "  'Art history does.',\n",
       "  'WHAT IS ART HISTORY?',\n",
       "  'introduction Copyright 2021 Cengage Learning.',\n",
       "  'All Rights Reserved.',\n",
       "  'May not be copied, scanned, or duplicated, in whole or in part.',\n",
       "  'Due to electronic rights, some third party content may be suppressed from the eBook and/or eChapter(s).',\n",
       "  'Editorial review has deemed that any suppressed content does not materially affect the overall learning experience.',\n",
       "  'Cengage Learning reserves the right to remove additional content at any time if subsequent rights restrictions require it.'],\n",
       " 'page_sentences_count_spacy': 35,\n",
       " 'sentence_chunks': [['1 What is art history?',\n",
       "   'I-12), a wood portrait from an ancient Egyptian tomb (fig.',\n",
       "   'Today, it is common for artists to work in private studios and to create paintings, sculptures, and other objects to be offered for sale by commercial art galleries.',\n",
       "   'Art history does.'],\n",
       "  ['I-12), a wood portrait from an ancient Egyptian tomb (fig.',\n",
       "   'Art history does.'],\n",
       "  ['Today, it is common for artists to work in private studios and to create paintings, sculptures, and other objects to be offered for sale by commercial art galleries.'],\n",
       "  ['Art history does.']],\n",
       " 'num_chunks': 4}"
      ]
     },
     "execution_count": 8,
     "metadata": {},
     "output_type": "execute_result"
    }
   ],
   "source": [
    "pages_and_texts[18]"
   ]
  },
  {
   "cell_type": "code",
   "execution_count": 9,
   "id": "09688059-20c7-444e-ab99-64efc6b50e74",
   "metadata": {},
   "outputs": [
    {
     "data": {
      "text/html": [
       "<div>\n",
       "<style scoped>\n",
       "    .dataframe tbody tr th:only-of-type {\n",
       "        vertical-align: middle;\n",
       "    }\n",
       "\n",
       "    .dataframe tbody tr th {\n",
       "        vertical-align: top;\n",
       "    }\n",
       "\n",
       "    .dataframe thead th {\n",
       "        text-align: right;\n",
       "    }\n",
       "</style>\n",
       "<table border=\"1\" class=\"dataframe\">\n",
       "  <thead>\n",
       "    <tr style=\"text-align: right;\">\n",
       "      <th></th>\n",
       "      <th>page_number</th>\n",
       "      <th>page_char_count</th>\n",
       "      <th>page_word_count</th>\n",
       "      <th>page_sentence_count_raw</th>\n",
       "      <th>page_token_count</th>\n",
       "      <th>page_sentences_count_spacy</th>\n",
       "      <th>num_chunks</th>\n",
       "    </tr>\n",
       "  </thead>\n",
       "  <tbody>\n",
       "    <tr>\n",
       "      <th>count</th>\n",
       "      <td>3302.00</td>\n",
       "      <td>3302.00</td>\n",
       "      <td>3302.00</td>\n",
       "      <td>3302.00</td>\n",
       "      <td>3302.00</td>\n",
       "      <td>3302.00</td>\n",
       "      <td>3302.00</td>\n",
       "    </tr>\n",
       "    <tr>\n",
       "      <th>mean</th>\n",
       "      <td>475.77</td>\n",
       "      <td>3329.10</td>\n",
       "      <td>541.48</td>\n",
       "      <td>28.81</td>\n",
       "      <td>832.28</td>\n",
       "      <td>27.78</td>\n",
       "      <td>3.53</td>\n",
       "    </tr>\n",
       "    <tr>\n",
       "      <th>std</th>\n",
       "      <td>321.39</td>\n",
       "      <td>2035.33</td>\n",
       "      <td>320.31</td>\n",
       "      <td>33.24</td>\n",
       "      <td>508.83</td>\n",
       "      <td>27.95</td>\n",
       "      <td>3.11</td>\n",
       "    </tr>\n",
       "    <tr>\n",
       "      <th>min</th>\n",
       "      <td>0.00</td>\n",
       "      <td>0.00</td>\n",
       "      <td>1.00</td>\n",
       "      <td>1.00</td>\n",
       "      <td>0.00</td>\n",
       "      <td>0.00</td>\n",
       "      <td>0.00</td>\n",
       "    </tr>\n",
       "    <tr>\n",
       "      <th>25%</th>\n",
       "      <td>206.00</td>\n",
       "      <td>2157.50</td>\n",
       "      <td>355.00</td>\n",
       "      <td>11.00</td>\n",
       "      <td>539.38</td>\n",
       "      <td>11.00</td>\n",
       "      <td>2.00</td>\n",
       "    </tr>\n",
       "    <tr>\n",
       "      <th>50%</th>\n",
       "      <td>416.00</td>\n",
       "      <td>2966.00</td>\n",
       "      <td>485.00</td>\n",
       "      <td>24.00</td>\n",
       "      <td>741.50</td>\n",
       "      <td>23.50</td>\n",
       "      <td>3.00</td>\n",
       "    </tr>\n",
       "    <tr>\n",
       "      <th>75%</th>\n",
       "      <td>724.75</td>\n",
       "      <td>4360.00</td>\n",
       "      <td>705.75</td>\n",
       "      <td>39.00</td>\n",
       "      <td>1090.00</td>\n",
       "      <td>38.00</td>\n",
       "      <td>5.00</td>\n",
       "    </tr>\n",
       "    <tr>\n",
       "      <th>max</th>\n",
       "      <td>1183.00</td>\n",
       "      <td>16445.00</td>\n",
       "      <td>2640.00</td>\n",
       "      <td>409.00</td>\n",
       "      <td>4111.25</td>\n",
       "      <td>356.00</td>\n",
       "      <td>40.00</td>\n",
       "    </tr>\n",
       "  </tbody>\n",
       "</table>\n",
       "</div>"
      ],
      "text/plain": [
       "       page_number  page_char_count  page_word_count  page_sentence_count_raw  \\\n",
       "count      3302.00          3302.00          3302.00                  3302.00   \n",
       "mean        475.77          3329.10           541.48                    28.81   \n",
       "std         321.39          2035.33           320.31                    33.24   \n",
       "min           0.00             0.00             1.00                     1.00   \n",
       "25%         206.00          2157.50           355.00                    11.00   \n",
       "50%         416.00          2966.00           485.00                    24.00   \n",
       "75%         724.75          4360.00           705.75                    39.00   \n",
       "max        1183.00         16445.00          2640.00                   409.00   \n",
       "\n",
       "       page_token_count  page_sentences_count_spacy  num_chunks  \n",
       "count           3302.00                     3302.00     3302.00  \n",
       "mean             832.28                       27.78        3.53  \n",
       "std              508.83                       27.95        3.11  \n",
       "min                0.00                        0.00        0.00  \n",
       "25%              539.38                       11.00        2.00  \n",
       "50%              741.50                       23.50        3.00  \n",
       "75%             1090.00                       38.00        5.00  \n",
       "max             4111.25                      356.00       40.00  "
      ]
     },
     "execution_count": 9,
     "metadata": {},
     "output_type": "execute_result"
    }
   ],
   "source": [
    "df = pd.DataFrame(pages_and_texts)\n",
    "df.describe().round(2)"
   ]
  },
  {
   "cell_type": "markdown",
   "id": "24a23e25-0e53-4d82-9025-0e388e22f199",
   "metadata": {},
   "source": [
    "**Разделение каждого чанка на отделиный элемент.**"
   ]
  },
  {
   "cell_type": "code",
   "execution_count": 10,
   "id": "15808378-4875-4d91-80ff-56441948b63f",
   "metadata": {},
   "outputs": [
    {
     "data": {
      "application/vnd.jupyter.widget-view+json": {
       "model_id": "99c31ba699734039a139d2b299d8f998",
       "version_major": 2,
       "version_minor": 0
      },
      "text/plain": [
       "  0%|          | 0/3302 [00:00<?, ?it/s]"
      ]
     },
     "metadata": {},
     "output_type": "display_data"
    },
    {
     "data": {
      "text/plain": [
       "11656"
      ]
     },
     "execution_count": 10,
     "metadata": {},
     "output_type": "execute_result"
    }
   ],
   "source": [
    "pages_and_chunks = []\n",
    "for item in tqdm(pages_and_texts):\n",
    "    for sentence_chunk in item['sentence_chunks']:\n",
    "        chunk_dict = {}\n",
    "        chunk_dict['source'] = item['pdf_file']\n",
    "        chunk_dict['page_number'] = item['page_number']\n",
    "        \n",
    "        joined_sentence_chunk = ''.join(sentence_chunk).replace('  ', ' ').strip()\n",
    "        joined_sentence_chunk = re.sub(r'\\.([A-Z])', r'. \\1', joined_sentence_chunk) \n",
    "        chunk_dict['sentence_chunk'] = joined_sentence_chunk\n",
    "\n",
    "        chunk_dict['chunk_char_count'] = len(joined_sentence_chunk)\n",
    "        chunk_dict['chunk_word_count'] = len([word for word in joined_sentence_chunk.split(' ')])\n",
    "        chunk_dict['chunk_token_count'] = len(joined_sentence_chunk) / 4 \n",
    "        \n",
    "        pages_and_chunks.append(chunk_dict)\n",
    "\n",
    "len(pages_and_chunks)"
   ]
  },
  {
   "cell_type": "markdown",
   "id": "cb034f84-6108-4fe0-b784-7781317bdbbc",
   "metadata": {},
   "source": [
    "**В итоге из 4 PDF-файлов нам удалось извлечь 11 656 чанков.**"
   ]
  },
  {
   "cell_type": "markdown",
   "id": "910bd6c7-1e29-4a31-953a-35bd446f6f81",
   "metadata": {},
   "source": [
    "**Теперь посмотрим на их качество.**"
   ]
  },
  {
   "cell_type": "code",
   "execution_count": 11,
   "id": "3ead718e-5154-4a0b-95d5-61155d4ce4c2",
   "metadata": {},
   "outputs": [
    {
     "data": {
      "text/html": [
       "<div>\n",
       "<style scoped>\n",
       "    .dataframe tbody tr th:only-of-type {\n",
       "        vertical-align: middle;\n",
       "    }\n",
       "\n",
       "    .dataframe tbody tr th {\n",
       "        vertical-align: top;\n",
       "    }\n",
       "\n",
       "    .dataframe thead th {\n",
       "        text-align: right;\n",
       "    }\n",
       "</style>\n",
       "<table border=\"1\" class=\"dataframe\">\n",
       "  <thead>\n",
       "    <tr style=\"text-align: right;\">\n",
       "      <th></th>\n",
       "      <th>page_number</th>\n",
       "      <th>chunk_char_count</th>\n",
       "      <th>chunk_word_count</th>\n",
       "      <th>chunk_token_count</th>\n",
       "    </tr>\n",
       "  </thead>\n",
       "  <tbody>\n",
       "    <tr>\n",
       "      <th>count</th>\n",
       "      <td>11656.00</td>\n",
       "      <td>11656.00</td>\n",
       "      <td>11656.00</td>\n",
       "      <td>11656.00</td>\n",
       "    </tr>\n",
       "    <tr>\n",
       "      <th>mean</th>\n",
       "      <td>547.55</td>\n",
       "      <td>239.91</td>\n",
       "      <td>38.79</td>\n",
       "      <td>59.98</td>\n",
       "    </tr>\n",
       "    <tr>\n",
       "      <th>std</th>\n",
       "      <td>341.48</td>\n",
       "      <td>398.35</td>\n",
       "      <td>63.53</td>\n",
       "      <td>99.59</td>\n",
       "    </tr>\n",
       "    <tr>\n",
       "      <th>min</th>\n",
       "      <td>0.00</td>\n",
       "      <td>2.00</td>\n",
       "      <td>1.00</td>\n",
       "      <td>0.50</td>\n",
       "    </tr>\n",
       "    <tr>\n",
       "      <th>25%</th>\n",
       "      <td>252.00</td>\n",
       "      <td>78.00</td>\n",
       "      <td>13.00</td>\n",
       "      <td>19.50</td>\n",
       "    </tr>\n",
       "    <tr>\n",
       "      <th>50%</th>\n",
       "      <td>504.50</td>\n",
       "      <td>154.00</td>\n",
       "      <td>25.00</td>\n",
       "      <td>38.50</td>\n",
       "    </tr>\n",
       "    <tr>\n",
       "      <th>75%</th>\n",
       "      <td>846.25</td>\n",
       "      <td>297.00</td>\n",
       "      <td>49.00</td>\n",
       "      <td>74.25</td>\n",
       "    </tr>\n",
       "    <tr>\n",
       "      <th>max</th>\n",
       "      <td>1183.00</td>\n",
       "      <td>10396.00</td>\n",
       "      <td>1688.00</td>\n",
       "      <td>2599.00</td>\n",
       "    </tr>\n",
       "  </tbody>\n",
       "</table>\n",
       "</div>"
      ],
      "text/plain": [
       "       page_number  chunk_char_count  chunk_word_count  chunk_token_count\n",
       "count     11656.00          11656.00          11656.00           11656.00\n",
       "mean        547.55            239.91             38.79              59.98\n",
       "std         341.48            398.35             63.53              99.59\n",
       "min           0.00              2.00              1.00               0.50\n",
       "25%         252.00             78.00             13.00              19.50\n",
       "50%         504.50            154.00             25.00              38.50\n",
       "75%         846.25            297.00             49.00              74.25\n",
       "max        1183.00          10396.00           1688.00            2599.00"
      ]
     },
     "execution_count": 11,
     "metadata": {},
     "output_type": "execute_result"
    }
   ],
   "source": [
    "df = pd.DataFrame(pages_and_chunks)\n",
    "df.describe().round(2)"
   ]
  },
  {
   "cell_type": "markdown",
   "id": "2a82cf4c-c1f1-4893-b2f9-3f1e39e91282",
   "metadata": {},
   "source": [
    "**Можно отметить, что в столбце chunk_token_count присутствуют значения, которые не представляют практической значимости: минимальное значение составляет 0.50, а максимальное достигает 2599.**"
   ]
  },
  {
   "cell_type": "markdown",
   "id": "2ebfe946-fa59-4d28-b33b-86e61e8f9855",
   "metadata": {},
   "source": [
    "**Давайте внимательно рассмотрим эти чанки, чтобы понять их содержание.**"
   ]
  },
  {
   "cell_type": "code",
   "execution_count": 12,
   "id": "6ce60893-9a02-4f88-ba74-d19a053c2735",
   "metadata": {
    "scrolled": true
   },
   "outputs": [
    {
     "name": "stdout",
     "output_type": "stream",
     "text": [
      "Chunk token count: 28.5 | Text: This chapter examines in turn Romanesque France and Spain, the Holy Roman Empire, Italy, and Normandy and England.\n",
      "Chunk token count: 27.0 | Text: Pilliod, Elizabeth. El Greco. Women and Art in Early Modern Europe: Patrons, Col- lectors, and Connoisseurs.\n",
      "Chunk token count: 19.5 | Text: Egyptian blue or “blue frit” is often described as the ﬁrst synthetic pigment.\n",
      "Chunk token count: 18.0 | Text: Roman copy from the palaestra, Pompeii, Italy, of a bronze statue of ca.\n",
      "Chunk token count: 29.75 | Text: The crossbow- men s guild of Louvain (near Brussels) commissioned it as the center of an altarpiece for a church there.\n"
     ]
    }
   ],
   "source": [
    "min_token_length = 30\n",
    "for row in df[df['chunk_token_count'] <= min_token_length].sample(5).iterrows():\n",
    "    print(f'Chunk token count: {row[1]['chunk_token_count']} | Text: {row[1]['sentence_chunk']}')"
   ]
  },
  {
   "cell_type": "code",
   "execution_count": 13,
   "id": "8a7c59ac-d6e7-4e13-a9f6-ad2daba57b38",
   "metadata": {},
   "outputs": [
    {
     "name": "stdout",
     "output_type": "stream",
     "text": [
      "Chunk token count: 1514.75 | Text: Ravenna Mausoleum of Galla Placidia, 248 250, 248 250 San Vitale church, 254, 255 257, 255 256 Rayograph, 992 Rayonnant or Court style, 413 418, 413 417 use of term, 415 Readymades, 972, 986 Realism development of, 859 860 painting, American, 885 890, 886 890 painting, English, 881 883, 882, 884 887, 884, 886 painting, French, 860 866, 862 866, 868 870, 868 870 rejection of academic values, 866 scientific realism painting, 887 888, 888 sculpture, French, 866 867, 867 Recumbent Figure (Moore), 1002, 1002 Red Blue Green (Kelly), 1054, 1055 Red Studio (Matisse), 949, 949 Red-figure pottery style, 121 123, 122 Red-figured calyx krater (Niobid Painter), 146, 146 Redon, Odilon, Eye Like a Strange Balloon Mounts Toward Infinity, 918 919, 919 Reed Painter, White-ground lekythos, 146 147, 146 Reflections on the Imitation of Greek Art in Painting and Sculpture (Winckelmann), 787 Reformation, 591 592, 603, 625 art in central Europe, 634 646, 636 646 in Basel, 646 in England, 647 649, 647 649 in the Netherlands, 650 651 Registers, 28 Regolini-Galassi tomb, Cerveteri, 166 167, 166 Reims Cathedral, 408, 410 sculpture, relief, 411 413, 411, 412 sculpture, west portal, 410 411, 411 west façade, 410, 410 Rejlander, Oscar Gustave, 895 Relics, 351, 353, 355, 359 Relief Panel of Hesy-ra, 60, 60 Relief prints, 501 Relief, 22, 443 Relieving triangle, 94 Religious beliefs Egyptian, 49, 52, 53 57 Greek, 103 Jewish, 40, 238 Minoan, 91 92 Mycenaean, 93 96, 93 96 Paleolithic, 5 6 Persian, 41 42 Sumerian, 22, 23, 24, 27 Reliquaries, 348, 353, 354 355, 354 Rembrandt van Rijn Bathsheba with King David s letter, 722 724, 723 Blinding of Samson, 719 720, 719 Hundred Guilder Print, 721 722, 721 Night Watch (The Company of Captain Frans Banning Cocq), 720 721, 720 Portrait of Saskia can Uylenburgh, 718 719, 719 Self-Portrait, 724, 724 workshops, authenticity of, 718 Remus, 177, 181, 207 Renaissance architecture, French, 626 628, 626, 628 architecture, Netherlands, 652 653, 653 architecture, Spain, 632 633, 632 artists, changing status of, 639 641, 640, 641, 651 decorative art, French, 628 631, 628, 630 631 humanist themes and religious turmoil, 646 647, 646, 647 Mannerism, 592 602, 593 601 map of Europe in sixteenth century, 627 origin of term, 505 painting, English, 646 649, 647 649 painting, German, 639, 640, 642 643, 642, 644 645, 644, 645, 646 647, 647 painting, Netherlands, 650 658, 650, 652 658 painting, Spanish, 633 634, 633, 634 patronage, 525 sculpture, French, 630 631, 630, 631 tapestry, French, 628 629, 628 woodcuts/engravings, 638 639, 638 639, 641, 641, 643 644, 643, 646, 646 Renaissance (early), Italian architecture, 509 515, 510 513, 515, 533 534, 533, 534, 546 547, 546 547, 550, 550 bronze work, 507 509, 508, 519 521, 520, 521 523, 522, 523, 534 536, 535 description of, 505 507 map of Italy, 506 Medici family, role of, 512 513, 530 531, 538 541 painting, 525 533, 526 533, 536 542, 537 542, 543 545, 544, 545, 547 550, 548, 549, 551 554, 551 554 sculpture, 505, 507 509, 508, 515 525, 518 524, 534 535, 534, 542 543, 543 Renaissance (High), Italian architecture, 565 568, 566, 567 description of, 557 558 frescoes for Sistine Chapel, 573 577, 573, 574, 576 frescoes for Stanza della Segnatura, 578, 579 580, 579 and humanism 580 painting, 556, 558, 559 564, 561, 563, 564, 573 588, 573 588 papal and private commissions, 580 582, 580, 581 patrons influence, 557 sculpture, 569 572, 569 572 use of term, 557 Renaissance (Late), Italian, architecture, 595 599, 595 598, 605 609, 605 609, 613 617, 614 616 description of, 591 592 Mannerism, 592 602, 593 601 map of Italian artists travels, 592 Medici family, role of, 595 602 painting, 594, 594, 599 600, 599, 602, 603 604, 604, 607 608, 608, 609 613, 610 613, 617 622, 617 619, 621, 622 portraiture and allegory, 599 601, 599, 600 sculpture, 596, 596, 600 602, 600, 601, 604, 604 Reni, Guido, Aurora, 672, 672 Renier of Huy, baptismal font, 379 381, 379 Renoir, Auguste, Luncheon of the Boating Party, 874 876, 875 Repatriation of cultural heritage, 134, 135 Repoussé, 46 Representaional Surrealism, 996 999, 997 998 Responds, 393 Restoration of architecture, 369 Restoring works of art, 578 Resurrection (Piero della Francesca), 544, 545 Resurrection, Isenheim Altarpiece (Grünewald), 636, 637 638, 638 Return of the Hunters (Bruegel the Elder), 655 656, 656 Return to Reason (Man Ray), The, 993 Revetments, Etruscan, terra cotta, 174, 174, 175 Reynolds, Joshua, 791, 794, 826 discourse delivered to the Royal Academy, 795 Lady Sarah Bunbury Sacrificing to the Graces, 795 796, 796 Rhinoceros, Wounded Man, and Bison, Lascaux Cave, 4, 6 Rhyton cup Minoan, 90 91, 91 Persian, 42 43, 42 Ribbed groin vaults, 446 Ribbed groin vaults, 446 Ribera, Jusepe de, The Club-Footed Boy, 690 691, 690 Riccardi family, 533 Richard II, king of England, 476 Richardson, Henry Hobson, Marshall Field Wholesale Store, Chicago, 931 932, 931 Richlieu, Cardinal, 738 Richter, Gerhard, 1051 1052 Rietveld, Gerrit, 1005 Red-Blue chair, 1006 1007, 1006 Schröder House, 1006, 1007, 1007 Rigaud, Hyacinthe, Portrait of Louis XIV, 746 748, 746 Riis, Jacob Five Cents a Spot, Unauthorized Lodgings in a Bayard Street Tenement, 939, 939 How The Other Half Lives, 939 Rinaldo and Armida (Van Dyke), 706, 707 Ripa, Cesare, Iconologia, 669 Rite of Spring (Stravinsky), 954 Ritual cup (Persian), 42, 42 Rivera, Diego Man at the Crossroads Looking with Hope and High Vision to a New and Better Future, 1025 Man, Controller of the Universe, 1025 1026, 1026 Robespierre, 821 Robie House (Wright), Chicago, 934 935, 934, 935 Robin, Pierre, Saint-Maclou, Rouen, 423, 423 Robinson, Henry Peach, 895 Rockefeller family, 1025 Rockefeller, John D., 1026 Rococo decorative arts, French, 772 774, 773, 774 development of, 761 762 difference between Baroque and, 761 in Germany and Austria, 776 782, 777 782 painting, English, 774 775, 775 painting, French, 760, 763 772, 763 765, 767 772 painting, Italian, 775 776, 776 sculpture, French, 774, 774 use of term, 159, 661, 761 Rodchenko, Aleksandr, Advertisement: Books! ,\n",
      "Chunk token count: 1443.0 | Text: Delacroix, Eugène, Death of Sardanapalus, 845 857, 845 journal of, 845 Scenes from the Massacre at Chios, 843 844, 844 Women of Algiers, 846, 847 Delaunay, Robert Homage to Blériot, 964, 964 Simultaneous Disks/Contrasts, 964 Delécluze, Étienne-Jean, Louis David, son école et son temps, 813 Delineations of Fonthill Abbey (Rutter), 852 Delivery of the Keys to St. Peter (Perugino), Sistine Chapel, Vatican, 553 554, 553 Della Porta, Giacomo dome of St. Peter s, 606, 607 Il Gesù church, Rome, 607 609, 607, 608 della Robbia, Luca, 511 Madonna and Child, 524, 524 Delos, bronze head from, 154, 155 Delphi, 109, 116 118, 117, 118 Demoiselles d Avignon, Les (Picasso), 950 952, 950 Demus, Otto, 270 Demuth, Charles, My Egypt, 1018 1019, 1019 Denis, Maurice, 917 Departure (Beckmann), 1030 1031, 1030 Departure of the Volunteers of 1792 (La Marseillaise) (Rude), Arc de Triomphe, Paris, 850 851, 851 Der Blaue Reiter Almanac, 961 Der Blaue Reiter, 958 961 Der Sturm, 957 Derain, André, Mountain at Collioure, 947, 948 Derrida, Jacques, 1075, 1082 Descartes, René, 663, 746 Descent from the Cross (Rogier van der Weyden), 485 486, 486 Descent from the Cross (Rosso Fiorentino), 593, 593 Descent of Man (Darwin), 903 Description de l Égypte, 837 Design for Sportswear (Stepanova), 1005, 1005 Dessault Systems, 1085 Deutsche Werkbund, 977 Devil s Pool, The (Sand), 865 Dickens, Charles, 881 Dickinson, Emily, 1068 Diderot, Denis, 785, 801, 811 and beginnings of art criticism, 812 Die Brücke, 955 958 Die Wies (Zimmerman), Bavarian pilgrimage church, 779 780, 779 Dietrich II, bishop of Naumburg, 433 Differences, 1092 Dikka, 284 Dine, Jim, 1047 Dinner Party, The (Chicago), 1068 1069, 1069 Diocletian, Palace of (Split), 226, 227 Dionysius the Areopagite, 392 Dionysos, 104, 135, 144, 151 Diotisalvi, Pisa baptistery, 375, 376 Dipteral, 113 Diptych of Martin van Nieuwenhove (Memling), 491 492, 491 Diptych defined, 476 of Martin van Nieuwenhove (Memling), 491 492, 491 Melun Diptych (Fouquet), 494 495, 495 Wilton Diptych, 476, 476 Dipylon Vase, 106, 106 Discourse on the Arts and Sciences (Rousseau), 787 Disdéri, Adolphe-Eugène, 892 Diskobolos (Discus Thrower) (Myron), 126, 126 Dit du Lion, Le, Guillaume de Machaut, 420, 420 Ditcheley Portrait (Portrait of Elizabeth I) (Gheeraerts the Younger), 649, 649 Divine Comedy (Dante Alighieri), 453, 924 Diving Bell and the Butterfly, The (Schnabel), 1087 Divisionism, 910 Djehutihopte, 56 Djoser, funerary complex of, 53 55, 53 54, 57 Doge s Palace, Venice, 464, 465, 550, 550 Dolmen, 16 Dome of the Rock, Jerusalem, 280 283, 282 Domenico Veneziano, 543 letter to Piero de Medici, 534 Madonna and Child with Saints, 532 533, 533 Domes, 380 Florence Cathedral (Brunelleschi), 509 510, 510, 512, 512 Invalides church (Hardouin-Mansart), Paris, 752, 752 pendentive, 259, 259 Romanesque, 380, 380 Saint Peter s, Rome (Michelangelo and Della Porta), 606, 607 San Carlo alle Quattro Fontane, Rome, 679 689, 680 Dominici, cardinal Giovanni, Rule for the Management of Family Care, 536, 539 Domitia Longina, portrait of, 205 206, 205 Domus, 217 Donatello, 509 David, 521, 534 535, 535 Equestrian Monument of Gattamelata, 521, 521 Feast of Herod, 520 521, 520 Mary Magdalen, 521, 521 St. George, 519, 519 St. Mark, 518 519, 518 Donkey s Tail, 966 Donne, John, 738 Doric style, 109 112, 110, 111, 112, 136 Dormition, church of, Daphni, Greece, 269 271, 269, 270 Dormitrion and Assumption of the Virgin (lintel), Chartres Cathedral, 407, 407 Doryphoros (Spear Bearer) (Polykleitos), 126 127, 126, 144 Double Portrait of Battista Sforza and Frederico da Montefeltro (Piero della Francesca), 545, 545 Douglass, Frederick, 1025 Douris, Eos and Memnon, 122 123, 122 Dove, Arthur Plant Forms, 974, 975 Ten Commandments, 975 Draper, Paul, Reconstruction of Sir Christopher Wren s plan for the city of London, 755 Drawing after Michelangelo s Ignudi from the Sistine Chapel Ceiling (Rubens), 701, 701 Drawings, techniques used during Renaissance, 575 Dream (Rousseau), 919 920, 919 Drip Music (Brecht), 1048 Drôleries, 420 Drowning Girl (Lichtenstein), 1049, 1049 Drug Store, Detroit (Frank), 1065, 1065 Drums, 111 Drunken Old Woman (Mryron of Thebes), 160, 160 Dryden, John, 790 Drypoint, 722 Du Camp, Maxime, 892 Du Cubisme (Gleizes and Metzinger), 963 Dubuffet, Jean, Les Métafisyx, 1042 1043, 1043 Duccio di Buoninsegna, 453 Maestà Altarpiece, Annunciation of the Death of the Virgin, 456, 456 Maestà Altarpiece, Christ Entering Jerusalem, 456, 457 Maestà Altarpiece, Madonna Enthroned, 454 456, 454 455 Duchamp, Marcel, 1037 Bicycle Wheel, xxvii, 972, 972 Fountain, xxvii, 986 987, 986 In Advance of a Broken Arm, 986 Mona Lisa, xxvi xxvii, xxvii, 987 Nude Descending a Staircase, 970 971, 971 Duchamp-Villon, Raymond, Horse, 971, 971 Dupérac, Étienne, engraving of Campidoglio, Rome, 605 Dur Sharrukin, 35 36, 35, 36 Dura-Europos Christian Meeting House, 244, 245 synagogue, 237 239, 237 238 Dürer, Albrecht, 480 Adam and Eve, 639, 639 Four Apostles, 642 643, 642 Four Horsemen of the Apocalypse, 638, 639 Hare, 638, 638 journal excerpt, 641 Melencolia I, 641, 641 Self-Portrait, 630 640, 640 Durham Cathedral, England, 382 384, 383 Dutch Republic, Baroque painting, 713 734, 714 734 Dying Trumpeter (Epigonos), 155, 155 Dying Warrior, pediment of Temple of Aphaia, 118, 119, 119, 120 Dzesi II (Anatsui), 1105 1106, 1105 Eakins, Thomas, Max Schmitt in a Single Scull (The Champion Single Sculls), 887 888, 888 Early English style, 426 Early modern period , use of term, 505 Early Sunday Morning (Hopper), 1028, 1029 Earthworks, 1059 1060, 1060 Echinus, 110 École des Beaux-Arts, 866, 878 Ecstasy of St. Teresa (Bernini), 660, 686, 687 Edgar A. Poe series (Redon), 918 919, 919 Edison, Thomas, New Brooklyn to New York via Brooklyn Bridge No.\n",
      "Chunk token count: 959.75 | Text: 1070 Credits Learning; 26-28: Jonathan Poore/Cengage Learning; 26-29: Jonathan Poore/Cen- gage ­Learning; 26-30: Jonathan Poore/Cengage Learning; 26-31: Jonathan Poore/­ Cengage Learning; 26-31A: Jonathan Poore/Cengage Learning; 26-32: Jonathan Poore/Cengage Learning; 26-32A: Jonathan Poore/Cengage Learning; 26-33: Thomas Jefferson Foundation; 26-34: Jonathan Poore/Cengage Learning; 26-35: Photo copyright © Philadelphia Museum of Art, E1950-2-1; 26-36: PhotoDisc/ Getty Images. Mr. and Mrs. William H. Marlatt Fund, 1965.233; 27-26: The Stone Breakers, 1849 (oil on canvas) (destroyed in 1945)/Courbet, Gustave (1819–77)/Staatliche Kunstsammlungen Dresden/­ Galerie Neue Meister, Dresden, Germany/Bridgeman Images; 27-27: Erich Less- ing/Art Resource ,Inc.; 27-28: RMN-Grand Palais/Art Resource, NY; 27-29: The Metropolitan Museum of Art. Photograph © 2005 Museum of Fine Arts Boston; 28-23: The Art Institute of ­Chicago/Art Resource, NY; 28-24: Philadelphia Museum of Art, The George W. Elkins Collection, E1936-1-1; 28-24A: The Philadelphia Museum of Art/Art Resource, NY; 28-25: The Art Institute of Chicago/Art Resource, NY; 28-26: AKG-Images; 28-26A: RMN-Grand Palais/Art Resource, NY; 28-27: The Cyclops, c. 1914 (oil on canvas)/Redon, Odilon (1840–1916)/Rijksmuseum Kroller-Muller, Otterlo, Netherlands/Bridgeman Images; 28-28: Digital Image © The Museum of Modern Art/Licensed by SCALA/Art Resource, NY; 28-28A: Digital Image © The Museum of Modern Art/Licensed by SCALA/Art Resource, NY; 28-29: Christ’s Triumphant Entry into Brussels, 1888 (oil on canvas), Ensor, James (1860–1949)/J. Paul Getty Museum, Los Angeles, USA/© DACS/Giraudon/ The Bridgeman Art Library; 28-29A: Victoria & Albert Museum, London/Art Resource, NY; 28-30: Erich Lessing/Art Resource, NY © 2014 The Munch Museum/The Munch-­Ellingsen Group/Artists Rights Society (ARS), NY; 28-31: Erich Lessing/Art Resource, NY; 28-32: The Metropolitan Museum of Art/Art Resource, NY; 28-33: © RMN-Grand Palais/Art Resource, NY; 28-33A: Fred S. Kleiner; 28-34: The Gates of Hell, 1880–90 (bronze)/Rodin, Auguste (1840–1917)/ PETER WILLI/Musee Rodin, Paris, France/Bridgeman Images; 28-35: Erich Lessing/Art Resource, NY; 28-35A: Smithsonian American Art Museum, Wash- ington, DC/Art Resource, NY; 28-36: Massimo Listri/Fine Art/Corbis; 28-37: © CSG CIC Glasgow Museums and Libraries Collections; 28-38: SOFAM; 28-38A: 2009 SOFAM Architect V. Horta, Photo Bastin and Evrard sprl; 28-38B: The Metropolitan Museum of Art/Art Resource, NY; 28-39: Jordi Todo/TAVISA/ Latitude Image; 28-40: Jonathan Poore/Cengage Learning; 28-41: Granger/ Granger—All rights reserved; 28-42: JoWiCa/Emporis; 28-42A: ART on FILE/ Getty Images; 28-43: Chicago History Museum/Getty Images. Art © 2011 Estate of Pablo Picasso/Artists Rights Society (ARS), NY; 29-12: RMN- Grand Palais/Art Resource, NY; 29-13: © 2011 Artists Rights Society (ARS), NY/ ADAGP, Paris, Photo: © Bridgeman-Giraudon/Art Resource, NY; 29-14: © 2011 Estate of Pablo Picasso, Licensed by Artists Rights Society (ARS), NY, Photo: © Réunion des Musées Nationaux/Art Resource, NY; 29-15: © 2011 Artists Rights Society (ARS), NY/ADAGP, Paris, Bottle, Newspaper Pipe, and Glass, 1913 (charcoal and collage on paper), Braque, Georges (1882–1963)/Private Collec- tion/The Bridgeman Art Library; 29-16: Erich Lessing/Art Resource, NY; 29-17: The Museum of Modern Art/Licensed by SCALA/Art Resource, NY; 29-17A: Digital Image © The Museum of Modern Art/Licensed by SCALA/Art Resource, NY; 29-18: © 2011 Estate of Aleksandr Archipenko/Artists Rights Society (ARS), NY, Photo: The Museum of Modern Art/Licensed by SCALA/Art Resource, NY; 29-18A: © The Estate of Jacques Lipchitz, courtesy Marlborough Gallery, NY, Photo: Jamison Miller, The Nelson-Atkins Museum of Art; 29-19: © 2011 Artists Rights Society (ARS), NY/ADAGP, Paris.\n",
      "Chunk token count: 999.75 | Text: Index 1081 and, 843; Industrial Revolution and, 779; late 19th century European and American, 876; late 20th cen- tury European and American, ­982–983; modernist, 933, 947–948; Realism and, 843; Superrealism and, 979–980; Symbolism and, 875, 876 Piano, Renzo, 1038, 1039; Centre Georges Pompidou (Beaubourg), Paris, ­992–993, 993, 1038; Tjibaou Cultural Centre, Noumea, 1039, 1039 Piazza d’Italia, New Orleans (Moore), 956, 957 Piazza Navona, Rome, 716–718 Picabia, Francis, 937 Picasso, Pablo, 5, 895–901, 920, 935, 29-53A; Armory show and, 896; Basquiat, Jean-Michel and, 1005; blue period, 895; on Cubism, 898, 899; Family of Saltimbanques, 895, 29-10A; Gertrude Stein, 896, 898; Guernica, 900, 901, 925, 1016; Gui- tar, 901–902; Guitar (maquette), 901; Les Demoiselles d’Avignon, 886, 896, 897, 898, 922, 930; Matisse and, 889, 895, 895, 29-2A; Rousseau and, 28-28A; the Steins and, 896, 29-10A; Still Life with Chair-Caning, 898, 899, 899; Three Musicians, 901, 901, 29-17A; Western pictorial tra- dition and, 887 “Picasso Speaks,” 898 Piero della Francesca, 626, 628, 652; Battista Sforza and Federico da Montefeltro, 628, 628; Brera Altar- piece, 628, 21-44A; Flagellation, 626, 627, 627; Legend of the True Cross, 611, 21-25A; Resurrection, mural in the Palazzo Comunale, Borgo San Sepolcro, 611–612, 611 Pietà, 646, 646, 654–655, 654, 667, 667, 668, 792, 801, 894 Pietà (Michelangelo Buonarroti), 646, 646, 801; (unfinished), Santa Maria Maggiore, Rome, 654–655, 654, 667, 668 Pietà (Titian and Palma il Giovane), 667–668, 667 Pietro Cavallini.2) (Hepworth), 924, 924 Ovid: Fasti, 661; Metamorphoses, 722 Oviedo, Martinez de, Iglesia La Compa- ñía de Jesús (Church of the Society of Jesus), Cuzco, 736, 736 The Oxbow (View from Mount Holyoke, Northampton, Massachusetts, after a Thunderstorm) (Cole), 820, 820 Ozymandius (Shelley), 813 P Padua (Italy): Arena Chapel (Cappella Scrovegni) (Giotto di Bondone), 427–428, 427, 428, 430, 14-9A; Chiesa degli Eremitani, 631, 631, 21-49A, 21-49B; Gattamelata (equestrian statue of Erasmo da Narni) (Donatello), Piazza del Santo, 604–605, 604 Paestum (Italy), Temple of Hera or Apollo, xix Paik, Nam June, Global Groove, 999–1000, 1000 Painting (Bacon), 959, 959 Painting (Miró), 920, 920 Palacio del Buen Retiro, Madrid, 733 Palazzo Barberini, Rome, 726, 727 Palazzo Carignano, Turin (Guarini), 720, 720, 24-14A Palazzo Comunale, Borgo San Sepolcro, 611–612, 611 Palazzo Contarini (Ca d’Oro), Venice, 621, 621, 623 Palazzo della Signoria (Palazzo Vecchio) (Arnolfo di Cambio), Florence, 437, 437, 602, 602, 14-19B Palazzo del Tè, Mantua (Giulio Romano), 674, 674, 675, 676 Palazzo di Parte Guelfa (Brunelleschi), Florence, 618, 618 Palazzo Ducale, Mantua, 630–631, 630, 631 Palazzo Farnese, Rome (Sangallo and Michelangelo Buonarroti), 658–659, 658, 659, 705; Loves of the Gods, ceil- ing frescoes in the gallery (Carracci), 721–722, 721 Palazzo Medici-Riccardi, Florence (Michelozzo di Bartolommeo), 601, 601, 602–603, 603, 610–611, 610, 618–620, 619, 621, 658 Palazzo Pubblico, Siena, 429, 434–435, 435, 436, 436, 611, 14-17A Palazzo Rucellai (Alberti and Rossel- lino), Florence, 620, 621 Palladio, Andrea, 655, 678–679, 682, 22-53A; San Giorgio Maggiore, Venice, 680–681, 681; Villa Rotonda, near Vicenza, 680, 680 Palma il Giovane (Jacopo Negretti), Pietà, 667–668, 667 Panthéon (Sainte-Geneviève), Paris (Soufflot), 793, 793 Pantheon, Rome, xxi; 18th century European and American architecture and, 797; Italian Renaissance and 623, 637, 657; Neoclassicism, 793, 794, 796; northern European High Renais- sance and Mannerism, 706, 713, 713, 715; Renaissance and Manner- ism in Cinquecento Italy, 680 Paris: A Rainy Day (Caillebotte), ­854–855, 854 Paris (France): Arc de Triomphe (Chal- grin), 816, 816, 27-18A; Biblio- thèque Sainte-Geneviève (Labrouste), 839–840, 840; Eiffel Tower, (Eiffel), 881–882, 882; La Madeleine, Paris (Vignon), 803, 803; Panthéon (Sainte-Geneviève) (Soufflot), 793, 793; Paris Opéra (Garnier), 839; Sainte-Chapelle.\n",
      "Chunk token count: 584.25 | Text: Stourhead Park (Flitcroft and Hoare), Wiltshire, England, 800, 800 Strand, Paul Manhatta (New York the Magnificent), 1017 1018, 1018 Wire Wheel, 1016 1017, 1017 Stravinsky, Igor, 954 Strawberry Hill (Walpole and others), Twickenham, England, 800 801, 801 Street Life in London (Smith), 893 Street photography, 1064 1065, 1065 Street, Dresden (Kirchner), 956, 956 Strindberg, August, 921 Strozzi cassone with the Conquest of Trebizond (Marco del Buono Giamberti and Apollonio di Giovanni di Tomaso), 537, 537 Strozzi, Palla, 525, 530 Struth, Thomas, 1103 Stubbs, George, Lion Attacking a Horse, 801 802, 802 Sturm und Drang, 787, 803, 822, 832 Stylobate, 110 Sublime, use of term, 790, 799, 808 Sufflot, Jacques-Germain, The Panthéon (formerly Sainte Geneviève), Paris, 806 807, 807 Suger of Saint-Denis, abbot, 391, 392, 393, 394, 395 Suitor, The (Vuillard), 917, 918 Süleyman I, 303 Sullivan, Louis ideas of, 932 933 Schlesinger and Meyer Store, Chicago, 933, 933 Wainwright Building, St. Louis, 932 933, 932 Sultan Han, turkey, 293, 293 Sultan Hasan, madrasa and tomb of, Cairo, 298, 299 Sultan-Muhammad, Allegory of Worldly and Otherworldly Drunkenness, from the Divan of Hafiz, Tabriz, 304 306, 305 Sumer (Sumerians) cylinder seals, 29, 29 geography of, 21 inlay, 25 27, 26 27 mosaic, 24 neo-Sumerian revival, 32 33 religion, 22, 23, 24, 27 Royal Cemetery at Ur, 26 27 Royal Standard of Ur, 27 28, 27 sculpture, 25 27, 25 27 temple architecture, 23 24, 24, 32 33, 32 visual narratives, 27 28, 27, 28 writing, 21 Summer s Day (The Lake in the Bois de Boulogne) (Morisot), 878 879, 878 Sunday Afternoon on the Island of La Grande Jatte (Seurat), 908 909, 909, 910 Sunken relief, 68 Suprematist Composition: Airplane Flying (Malevich), 968, 969 Surrealism development of, 993 film and, 993, 997 998, 997, 1017 1018, 1018 French, 995 999, 996 998 photography and, 999, 999 Picasso and, 993 995, 994 objects, 999 1000, 1000 representational, 996 999, 997 998 Surrealist Manifesto (Breton), 992, 993 Surrender at Breda (Velasquez), 691 692, 692 Sutton Hoo burial ship, England, 315, 316 318, 316, 317 Swedenborg, Emmanuel, 933 Swiczinsky, Helmut, 1083 Swinburne, Algernon Charles, 884, 885 Swing, The (Fragonard), 767 769, 768 Symbolism (Synthetism) defined, 917 painting, 917 924, 918 924 sculpture, 924 927, 925 927 Symphony in White No.\n"
     ]
    }
   ],
   "source": [
    "max_token_length = 500\n",
    "for row in df[df['chunk_token_count'] >= max_token_length].sample(5).iterrows():\n",
    "    print(f'Chunk token count: {row[1]['chunk_token_count']} | Text: {row[1]['sentence_chunk']}')"
   ]
  },
  {
   "cell_type": "markdown",
   "id": "8fa84ab6-539f-49d7-a3ab-d967035b8be3",
   "metadata": {},
   "source": [
    "**Избавимся от этих чанков, так как они не содержат полезной информации и могут лишь снизить общее качество данных.**"
   ]
  },
  {
   "cell_type": "code",
   "execution_count": 14,
   "id": "3fe333d6-3d9d-49d0-82a7-2098c6572de3",
   "metadata": {},
   "outputs": [],
   "source": [
    "pages_and_chunks_over = df[(df[\"chunk_token_count\"] > min_token_length) & (df[\"chunk_token_count\"] < max_token_length)].to_dict(orient=\"records\")"
   ]
  },
  {
   "cell_type": "markdown",
   "id": "37855a80-7dd8-4404-8c3d-a6490905a96d",
   "metadata": {},
   "source": [
    "### Создание векторов"
   ]
  },
  {
   "cell_type": "markdown",
   "id": "8f499f3a-dc6a-4a5e-999a-766ab87115bd",
   "metadata": {},
   "source": [
    "**После того как мы подготовили наши чанки, займемся их преобразованием в векторное представление. В этом нам поможет библиотека sentence-transformers, которая предоставляет удобные инструменты для создания эмбеддингов текста с использованием предобученных моделей.**"
   ]
  },
  {
   "cell_type": "code",
   "execution_count": 15,
   "id": "8d897bdd-c1de-4798-9a66-c7e92e841c91",
   "metadata": {},
   "outputs": [],
   "source": [
    "from sentence_transformers import SentenceTransformer\n",
    "\n",
    "embedding_model = SentenceTransformer(model_name_or_path='all-mpnet-base-v2', \n",
    "                                      device='cuda')"
   ]
  },
  {
   "cell_type": "code",
   "execution_count": 16,
   "id": "1f9fbe2d-24e2-4153-8f23-5b6605944bba",
   "metadata": {},
   "outputs": [
    {
     "data": {
      "application/vnd.jupyter.widget-view+json": {
       "model_id": "e47ad91a366e4dd28c7330b1c0c5c871",
       "version_major": 2,
       "version_minor": 0
      },
      "text/plain": [
       "  0%|          | 0/6949 [00:00<?, ?it/s]"
      ]
     },
     "metadata": {},
     "output_type": "display_data"
    }
   ],
   "source": [
    "for item in tqdm(pages_and_chunks_over):\n",
    "    item['embedding'] = embedding_model.encode(item['sentence_chunk'])"
   ]
  },
  {
   "cell_type": "code",
   "execution_count": 17,
   "id": "804c47d3-1510-497a-9a88-151d283487d3",
   "metadata": {},
   "outputs": [
    {
     "data": {
      "text/html": [
       "<div>\n",
       "<style scoped>\n",
       "    .dataframe tbody tr th:only-of-type {\n",
       "        vertical-align: middle;\n",
       "    }\n",
       "\n",
       "    .dataframe tbody tr th {\n",
       "        vertical-align: top;\n",
       "    }\n",
       "\n",
       "    .dataframe thead th {\n",
       "        text-align: right;\n",
       "    }\n",
       "</style>\n",
       "<table border=\"1\" class=\"dataframe\">\n",
       "  <thead>\n",
       "    <tr style=\"text-align: right;\">\n",
       "      <th></th>\n",
       "      <th>source</th>\n",
       "      <th>page_number</th>\n",
       "      <th>sentence_chunk</th>\n",
       "      <th>chunk_char_count</th>\n",
       "      <th>chunk_word_count</th>\n",
       "      <th>chunk_token_count</th>\n",
       "      <th>embedding</th>\n",
       "    </tr>\n",
       "  </thead>\n",
       "  <tbody>\n",
       "    <tr>\n",
       "      <th>5913</th>\n",
       "      <td>Transformative Art Movements and the Paintings...</td>\n",
       "      <td>215</td>\n",
       "      <td>Self-Portrait With a Portrait of Her Sister Ro...</td>\n",
       "      <td>162</td>\n",
       "      <td>24</td>\n",
       "      <td>40.50</td>\n",
       "      <td>[0.02697511, 0.08461836, -0.023276823, 0.01099...</td>\n",
       "    </tr>\n",
       "    <tr>\n",
       "      <th>2000</th>\n",
       "      <td>Gardners Art Through the Ages The Western Pers...</td>\n",
       "      <td>704</td>\n",
       "      <td>Francis favored art that was at once elegant, ...</td>\n",
       "      <td>135</td>\n",
       "      <td>24</td>\n",
       "      <td>33.75</td>\n",
       "      <td>[0.037299544, 0.08872556, -0.041632187, 0.0723...</td>\n",
       "    </tr>\n",
       "    <tr>\n",
       "      <th>6588</th>\n",
       "      <td>Vasari Giorgio_The_Lives_of_the_Artists_Oxford...</td>\n",
       "      <td>303</td>\n",
       "      <td>Preface to Part Three Those excellent masters ...</td>\n",
       "      <td>580</td>\n",
       "      <td>101</td>\n",
       "      <td>145.00</td>\n",
       "      <td>[0.042665754, 0.038328882, -0.05292479, 0.0379...</td>\n",
       "    </tr>\n",
       "    <tr>\n",
       "      <th>1694</th>\n",
       "      <td>Gardners Art Through the Ages The Western Pers...</td>\n",
       "      <td>599</td>\n",
       "      <td>598 Chapter 21 The Renaissance in Quattrocento...</td>\n",
       "      <td>793</td>\n",
       "      <td>138</td>\n",
       "      <td>198.25</td>\n",
       "      <td>[0.03272, 0.03345174, 0.00044551038, 0.0578710...</td>\n",
       "    </tr>\n",
       "    <tr>\n",
       "      <th>6160</th>\n",
       "      <td>Transformative Art Movements and the Paintings...</td>\n",
       "      <td>384</td>\n",
       "      <td>383 THE FIGURATIVE TRADITION MASTERWORK Beneﬁt...</td>\n",
       "      <td>277</td>\n",
       "      <td>44</td>\n",
       "      <td>69.25</td>\n",
       "      <td>[0.071031764, 0.0033289467, -0.042039618, 0.01...</td>\n",
       "    </tr>\n",
       "  </tbody>\n",
       "</table>\n",
       "</div>"
      ],
      "text/plain": [
       "                                                 source  page_number  \\\n",
       "5913  Transformative Art Movements and the Paintings...          215   \n",
       "2000  Gardners Art Through the Ages The Western Pers...          704   \n",
       "6588  Vasari Giorgio_The_Lives_of_the_Artists_Oxford...          303   \n",
       "1694  Gardners Art Through the Ages The Western Pers...          599   \n",
       "6160  Transformative Art Movements and the Paintings...          384   \n",
       "\n",
       "                                         sentence_chunk  chunk_char_count  \\\n",
       "5913  Self-Portrait With a Portrait of Her Sister Ro...               162   \n",
       "2000  Francis favored art that was at once elegant, ...               135   \n",
       "6588  Preface to Part Three Those excellent masters ...               580   \n",
       "1694  598 Chapter 21 The Renaissance in Quattrocento...               793   \n",
       "6160  383 THE FIGURATIVE TRADITION MASTERWORK Beneﬁt...               277   \n",
       "\n",
       "      chunk_word_count  chunk_token_count  \\\n",
       "5913                24              40.50   \n",
       "2000                24              33.75   \n",
       "6588               101             145.00   \n",
       "1694               138             198.25   \n",
       "6160                44              69.25   \n",
       "\n",
       "                                              embedding  \n",
       "5913  [0.02697511, 0.08461836, -0.023276823, 0.01099...  \n",
       "2000  [0.037299544, 0.08872556, -0.041632187, 0.0723...  \n",
       "6588  [0.042665754, 0.038328882, -0.05292479, 0.0379...  \n",
       "1694  [0.03272, 0.03345174, 0.00044551038, 0.0578710...  \n",
       "6160  [0.071031764, 0.0033289467, -0.042039618, 0.01...  "
      ]
     },
     "execution_count": 17,
     "metadata": {},
     "output_type": "execute_result"
    }
   ],
   "source": [
    "embedding_df = pd.DataFrame(pages_and_chunks_over)\n",
    "embedding_df.sample(5)"
   ]
  },
  {
   "cell_type": "code",
   "execution_count": 18,
   "id": "77ccc307-a079-46dc-a39a-6476532b0f25",
   "metadata": {},
   "outputs": [
    {
     "name": "stdout",
     "output_type": "stream",
     "text": [
      "<class 'pandas.core.frame.DataFrame'>\n",
      "RangeIndex: 6949 entries, 0 to 6948\n",
      "Data columns (total 7 columns):\n",
      " #   Column             Non-Null Count  Dtype  \n",
      "---  ------             --------------  -----  \n",
      " 0   source             6949 non-null   object \n",
      " 1   page_number        6949 non-null   int64  \n",
      " 2   sentence_chunk     6949 non-null   object \n",
      " 3   chunk_char_count   6949 non-null   int64  \n",
      " 4   chunk_word_count   6949 non-null   int64  \n",
      " 5   chunk_token_count  6949 non-null   float64\n",
      " 6   embedding          6949 non-null   object \n",
      "dtypes: float64(1), int64(3), object(3)\n",
      "memory usage: 380.2+ KB\n"
     ]
    }
   ],
   "source": [
    "embedding_df.info()"
   ]
  },
  {
   "cell_type": "markdown",
   "id": "25d8d198-8091-45e2-ba6d-0180626c526a",
   "metadata": {},
   "source": [
    "**Замечательно! Теперь у нас есть векторы чанков!**"
   ]
  },
  {
   "cell_type": "markdown",
   "id": "782dce65-54de-499c-bb4b-589fbeb960af",
   "metadata": {},
   "source": [
    "**Для дальнейшей работы нам потребуется преобразовать наши векторные представления в тензоры.**"
   ]
  },
  {
   "cell_type": "code",
   "execution_count": 19,
   "id": "b4ef1c9e-7142-4cfa-9463-f203070780eb",
   "metadata": {},
   "outputs": [
    {
     "data": {
      "text/plain": [
       "torch.Size([6949, 768])"
      ]
     },
     "execution_count": 19,
     "metadata": {},
     "output_type": "execute_result"
    }
   ],
   "source": [
    "import torch\n",
    "import numpy as np\n",
    "from sentence_transformers import util\n",
    "\n",
    "device = 'cuda' if torch.cuda.is_available() else 'cpu'\n",
    "\n",
    "pages_and_chunks = embedding_df.to_dict(orient='records')\n",
    "\n",
    "embeddings = torch.tensor(np.array(embedding_df['embedding'].tolist()), dtype=torch.float32).to(device)\n",
    "embeddings.shape"
   ]
  },
  {
   "cell_type": "markdown",
   "id": "5891b584-8dea-4c16-aeca-ec3066dd25b8",
   "metadata": {},
   "source": [
    "### Семантический поиск"
   ]
  },
  {
   "cell_type": "markdown",
   "id": "4f2a100c-09f2-4db6-ba22-94877a546643",
   "metadata": {},
   "source": [
    "**Теперь давайте проведем семантический поиск.**"
   ]
  },
  {
   "cell_type": "markdown",
   "id": "d7fa2edd-9b7d-4e69-b5f2-010df4629892",
   "metadata": {},
   "source": [
    "\n",
    "**У нас есть два наиболее популярных метода для решения этой задачи:**\n",
    "1. Использовать util из sentence transformers\n",
    "2. FAISS\n",
    "\n",
    "**Мы рассмотрим оба этих метода.**"
   ]
  },
  {
   "cell_type": "markdown",
   "id": "c6e62155-6c6c-4792-b85a-2f31a8b19fd0",
   "metadata": {},
   "source": [
    "### Работа с util"
   ]
  },
  {
   "cell_type": "markdown",
   "id": "ab24746f-31dc-493f-8f3b-541116278494",
   "metadata": {},
   "source": [
    "**Мы будем вычислять скалярное произведение между векторным представлением запроса и векторным представлением чанка. Поскольку оба вектора имеют одинаковую размерность, скалярное произведение позволит нам эффективно оценить степень их схожести!**"
   ]
  },
  {
   "cell_type": "code",
   "execution_count": 20,
   "id": "a456f053-8ec7-485f-bef4-4ffd2797d3cb",
   "metadata": {},
   "outputs": [
    {
     "name": "stdout",
     "output_type": "stream",
     "text": [
      "Query: What was Claude Monet famous for?\n"
     ]
    },
    {
     "data": {
      "text/plain": [
       "torch.return_types.topk(\n",
       "values=tensor([0.6220, 0.6093, 0.6052, 0.5918, 0.5864], device='cuda:0'),\n",
       "indices=tensor([2429, 3179, 2444, 6175, 2436], device='cuda:0'))"
      ]
     },
     "execution_count": 20,
     "metadata": {},
     "output_type": "execute_result"
    }
   ],
   "source": [
    "query = 'What was Claude Monet famous for?'\n",
    "print(f'Query: {query}')\n",
    "\n",
    "query_embedding = embedding_model.encode(query, convert_to_tensor=True).to(device)\n",
    "\n",
    "dot_scores = util.dot_score(a=query_embedding, b=embeddings)[0]\n",
    "\n",
    "top_results_dot_product = torch.topk(dot_scores, k=5)\n",
    "top_results_dot_product"
   ]
  },
  {
   "cell_type": "markdown",
   "id": "7a01f04b-eb36-4642-8acb-9aa7de2e0583",
   "metadata": {},
   "source": [
    "**Супер! Мы получили отличные результаты. Теперь давайте проверим, насколько текст извлеченных чанков соответствует нашему запросу**"
   ]
  },
  {
   "cell_type": "code",
   "execution_count": 21,
   "id": "a2b5eb3e-9666-4efc-9196-fdaf8de6405d",
   "metadata": {},
   "outputs": [],
   "source": [
    "import textwrap\n",
    "\n",
    "def print_wrapped(text, wrap_length=80):\n",
    "    wrapped_text = textwrap.fill(text, wrap_length)\n",
    "    print(wrapped_text)"
   ]
  },
  {
   "cell_type": "code",
   "execution_count": 22,
   "id": "1dc2dd54-9f81-4c33-820f-7f32f74204a9",
   "metadata": {},
   "outputs": [
    {
     "name": "stdout",
     "output_type": "stream",
     "text": [
      "Query: 'What was Claude Monet famous for?'\n",
      "\n",
      "Results:\n",
      "Score: 0.6220\n",
      "Text:\n",
      "Claude Monet in His Studio Boat is also noteworthy as a document of Monet’s\n",
      "preference for painting outdoors (en plein air)—a radical practice at the\n",
      "time—in order to record his “impression” of the Seine by placing colors directly\n",
      "on a white canvas without any preliminary sketch—also a sharp break from\n",
      "traditional studio techniques.\n",
      "Source: Gardners Art Through the Ages The Western Perspective, Volume I,.pdf\n",
      "Page number: 850\n",
      "\n",
      "\n",
      "Score: 0.6093\n",
      "Text:\n",
      "These include: Monet s Gare St. Lazare; Rossetti s Proserpine; Nadar s portrait\n",
      "Édouard Manet; and Le Gray s Brig on the Water.\n",
      "Source: History_of_Art.pdf\n",
      "Page number: 16\n",
      "\n",
      "\n",
      "Score: 0.6052\n",
      "Text:\n",
      "Monet’s intensive study of the phenomena of light and color is especially\n",
      "evident in several series of paintings he made of the same subject late in his\n",
      "career.\n",
      "Source: Gardners Art Through the Ages The Western Perspective, Volume I,.pdf\n",
      "Page number: 855\n",
      "\n",
      "\n",
      "Score: 0.5918\n",
      "Text:\n",
      "Piet Mondrian and Theo van Doesburg were the leading members of the group, which\n",
      "embraced sculpture, architecture, and design as well as painting.\n",
      "Source: Transformative Art Movements and the Paintings That Inspired Them - 2013.pdf\n",
      "Page number: 386\n",
      "\n",
      "\n",
      "Score: 0.5864\n",
      "Text:\n",
      "Lilla Cabot Perry (1848–1933), a student of Monet’s late in his career, gave\n",
      "this description of Monet’s approach: I remember his once saying to me: “When\n",
      "you go out to paint, try to forget what objects you have before you—a tree, a\n",
      "house, a field, or whatever.1 in.\n",
      "Source: Gardners Art Through the Ages The Western Perspective, Volume I,.pdf\n",
      "Page number: 852\n",
      "\n",
      "\n"
     ]
    }
   ],
   "source": [
    "print(f\"Query: '{query}'\\n\")\n",
    "print(\"Results:\")\n",
    "for score, idx in zip(top_results_dot_product[0], top_results_dot_product[1]):\n",
    "    print(f\"Score: {score:.4f}\")\n",
    "    print(\"Text:\")\n",
    "    print_wrapped(pages_and_chunks[idx][\"sentence_chunk\"])\n",
    "    print(f\"Source: {pages_and_chunks[idx]['source']}\")\n",
    "    print(f\"Page number: {pages_and_chunks[idx]['page_number']}\")\n",
    "    print(\"\\n\")"
   ]
  },
  {
   "cell_type": "markdown",
   "id": "5dd8258b-f245-4fd1-b7e0-f1de98583afe",
   "metadata": {},
   "source": [
    "**Получилось отлично! Теперь давайте повторим это с FAISS.**"
   ]
  },
  {
   "cell_type": "markdown",
   "id": "e664be4d-a4f1-4076-a7e1-a4e0aadc87bb",
   "metadata": {},
   "source": [
    "### Работа с FAISS"
   ]
  },
  {
   "cell_type": "code",
   "execution_count": 23,
   "id": "1454703b-82f2-4834-915c-8da992122b9f",
   "metadata": {},
   "outputs": [],
   "source": [
    "import faiss\n",
    "\n",
    "embeddings = np.array(embedding_df['embedding'].tolist()).astype('float32')\n",
    "dimension = embeddings.shape[1]  \n",
    "index = faiss.IndexFlatIP(dimension)\n",
    "index.add(embeddings)"
   ]
  },
  {
   "cell_type": "code",
   "execution_count": 24,
   "id": "ca33adb9-f117-4b81-a96c-13ad77d76510",
   "metadata": {},
   "outputs": [],
   "source": [
    "query = 'What was Michelangelo famous for?'\n",
    "query_embedding = embedding_model.encode(query, convert_to_tensor=False).astype('float32')\n",
    "query_embedding = np.expand_dims(query_embedding, axis=0)"
   ]
  },
  {
   "cell_type": "code",
   "execution_count": 25,
   "id": "952b7da9-31d7-443a-965a-1414a641e4e3",
   "metadata": {},
   "outputs": [
    {
     "name": "stdout",
     "output_type": "stream",
     "text": [
      "Query: 'What was Michelangelo famous for?'\n",
      "\n",
      "Results:\n",
      "Score: 0.7094\n",
      "Text:\n",
      "472 MICHELANGELO \\vas recognized during his lifetime and not, as happens to so\n",
      "many, only after his death, for as we have seen, Julius II, Leo X, Clement VII,\n",
      "Paul HI, Julius III, Paul IV, and Pius IV, all supreme pontiffs, -wished to have\n",
      "him nearby at all times, and, as is well known, Suleiman, Emperor of the Turks,\n",
      "Francis Valois, King of France, Emperor Charles V, the Signoria of Venice, and\n",
      "finally Duke Cosimo de' Medici, as was mentioned, all provided him with generous\n",
      "salaries for no other reason than to avail themselves of his great talent; this\n",
      "happens only to men of great -worth, as he -was, for it was recognized and\n",
      "understood that all three of these arts had reached a true state of perfection\n",
      "in his works, and that God had not granted such genius either to the artists of\n",
      "antiquity or to those of the modern period as He had to Michelangelo, in all the\n",
      "many years the sun had been revolving.*\n",
      "Source: Vasari Giorgio_The_Lives_of_the_Artists_Oxford.pdf\n",
      "Page number: 498\n",
      "\n",
      "\n",
      "Score: 0.7058\n",
      "Text:\n",
      "The Life of Michelangelo Buonarroti, Florentine Painter, Sculptor, and Architect\n",
      "[1475-1564] While industrious and distinguished spirits, illuminated by the\n",
      "widely renowned Giotto and his followers, were striving to give the world proof\n",
      "of the talent which the benevolence of the stars and the proportionate mixture\n",
      "of their humours had bestowed upon their genius, all toiling anxiously, though\n",
      "in vain, in their eagerness to imitate the grandeur of Nature with the skills of\n",
      "art, in order to come as close as they could to that ultimate knowledge many\n",
      "people call intelligence, the most benevolent Ruler of Heaven mercifully turned\n",
      "His eyes towards earth, and, witnessing the hopeless quantity of such labours,\n",
      "the most fervid but fruitless studies, and the presump- tuous opinion of men who\n",
      "were further from the truth than shadows from the light, He decided, in order to\n",
      "rid us of so many errors, to send to earth a spirit who, working alone, was able\n",
      "to demonstrate in every art and every profession the meaning of perfection in\n",
      "the art of design, how to give relief to the details in paintings by means of\n",
      "proper drawing, tracing, shading, and casting light, how to work with good\n",
      "judgement in sculpture, and how to make buildings comfort- able and secure,\n",
      "healthy, cheerful, well proportioned, and richly adorned with various\n",
      "decorations in architecture.*\n",
      "Source: Vasari Giorgio_The_Lives_of_the_Artists_Oxford.pdf\n",
      "Page number: 440\n",
      "\n",
      "\n",
      "Score: 0.6907\n",
      "Text:\n",
      "EXPLANATORY NOTES 573 The Life of Michelangelo 414 in architecture: with this\n",
      "single complex Ciceronian period, Vasari announces the arrival of the 'divine'\n",
      "genius Michelangelo and also emphasizes his belief that the art of design\n",
      "provides the foundation for painting, sculpture, and architecture. Bertoldo the\n",
      "sculptor: Bertoldo di Giovanni (c.1420-91), a pupil of Donatello.\n",
      "Source: Vasari Giorgio_The_Lives_of_the_Artists_Oxford.pdf\n",
      "Page number: 599\n",
      "\n",
      "\n",
      "Score: 0.6848\n",
      "Text:\n",
      "478 MICHELANGELO While he was working for a prince who changed his plans every\n",
      "day and could never make up his mind, Michelangelo told a friend of his: 'This\n",
      "lord has a brain like a weather vane, for every wind that blows behind it turns\n",
      "it around.'As he was passing through Modena, he saw many beautiful terracotta\n",
      "figures coloured to look like marble by Master Antonio Bigarino, a sculptor from\n",
      "that city,* all of which\n",
      "Source: Vasari Giorgio_The_Lives_of_the_Artists_Oxford.pdf\n",
      "Page number: 504\n",
      "\n",
      "\n",
      "Score: 0.6647\n",
      "Text:\n",
      "MICHELANGELO 415 always among the greatest and most elevated, and because they\n",
      "were more scrupulous in their efforts to study these arts than any other people\n",
      "of Italy, He wanted to bequeath to this spirit, as his native city, Florence,\n",
      "the most worthy among all the other cities, so that the perfection Florence\n",
      "justly achieved with all her talents might finally reach its culmination in one\n",
      "of her own citizens.\n",
      "Source: Vasari Giorgio_The_Lives_of_the_Artists_Oxford.pdf\n",
      "Page number: 441\n",
      "\n",
      "\n"
     ]
    }
   ],
   "source": [
    "k = 5 \n",
    "distances, indices = index.search(query_embedding, k)\n",
    "\n",
    "print(f\"Query: '{query}'\\n\")\n",
    "print(\"Results:\")\n",
    "for score, idx in zip(distances[0], indices[0]):\n",
    "    print(f\"Score: {score:.4f}\")\n",
    "    print(\"Text:\")\n",
    "    print_wrapped(pages_and_chunks[idx][\"sentence_chunk\"])\n",
    "    print(f\"Source: {pages_and_chunks[idx]['source']}\")\n",
    "    print(f\"Page number: {pages_and_chunks[idx]['page_number']}\")\n",
    "    print(\"\\n\")"
   ]
  },
  {
   "cell_type": "markdown",
   "id": "fc49d07d-c600-4a5b-a3b0-b481a3cdfa37",
   "metadata": {},
   "source": [
    "**Каждый из методов продемонстрировал отличные результаты! Благодаря этому мы успешно находим нужные фрагменты текста из нашего набора данных, соответствующие запросу пользователя.**"
   ]
  },
  {
   "cell_type": "markdown",
   "id": "9287ccca-7f4b-4e39-91f3-bae08504af1f",
   "metadata": {},
   "source": [
    "**Для удобства дальнейшей работы объединим все этапы в функции.**"
   ]
  },
  {
   "cell_type": "code",
   "execution_count": 26,
   "id": "fdeda0c9-1a2d-4528-a72f-612ff647ef00",
   "metadata": {},
   "outputs": [],
   "source": [
    "def retrieve_relevant_resources(query: str,\n",
    "                                embeddings: torch.tensor,\n",
    "                                model: SentenceTransformer=embedding_model,\n",
    "                                n_resources_to_return: int=5):\n",
    " \n",
    "    query_embedding = model.encode(query, convert_to_tensor=True).to(device)\n",
    "\n",
    "    dot_scores = util.dot_score(query_embedding, embeddings)[0]\n",
    "\n",
    "    scores, indices = torch.topk(input=dot_scores, k=n_resources_to_return)\n",
    "\n",
    "    return scores, indices\n",
    "\n",
    "def print_top_results_and_scores(query: str,\n",
    "                                 embeddings: torch.tensor,\n",
    "                                 pages_and_chunks: list[dict]=pages_and_chunks,\n",
    "                                 n_resources_to_return: int=5):\n",
    "    \n",
    "    scores, indices = retrieve_relevant_resources(query=query,\n",
    "                                                  embeddings=embeddings,\n",
    "                                                  n_resources_to_return=n_resources_to_return)\n",
    "    \n",
    "    print(f\"Query: '{query}'\\n\")\n",
    "    print(\"Results:\")\n",
    "    for score, idx in zip(scores[0], indices[0]):\n",
    "        print(f\"Score: {score:.4f}\")\n",
    "        print(\"Text:\")\n",
    "        print_wrapped(pages_and_chunks[idx][\"sentence_chunk\"])\n",
    "        print(f\"Source: {pages_and_chunks[idx]['source']}\")\n",
    "        print(f\"Page number: {pages_and_chunks[idx]['page_number']}\")\n",
    "        print(\"\\n\")"
   ]
  },
  {
   "cell_type": "markdown",
   "id": "5cdd3571-be59-411c-a33c-581641dc3fbf",
   "metadata": {},
   "source": [
    "### Добавление LLM"
   ]
  },
  {
   "cell_type": "markdown",
   "id": "d8fe9bda-4270-4b31-9ffb-1ea031d9b09a",
   "metadata": {},
   "source": [
    "**В этой работе мы будем использовать модель LLaMA 3.2 с 3 миллиардами параметров.**"
   ]
  },
  {
   "cell_type": "code",
   "execution_count": 27,
   "id": "12082006-6e4b-495e-b683-9e1c96e6961d",
   "metadata": {},
   "outputs": [
    {
     "data": {
      "application/vnd.jupyter.widget-view+json": {
       "model_id": "c419907d9e1c4420a91d97f38aa1ea3e",
       "version_major": 2,
       "version_minor": 0
      },
      "text/plain": [
       "Loading checkpoint shards:   0%|          | 0/2 [00:00<?, ?it/s]"
      ]
     },
     "metadata": {},
     "output_type": "display_data"
    },
    {
     "data": {
      "text/plain": [
       "LlamaForCausalLM(\n",
       "  (model): LlamaModel(\n",
       "    (embed_tokens): Embedding(128256, 3072)\n",
       "    (layers): ModuleList(\n",
       "      (0-27): 28 x LlamaDecoderLayer(\n",
       "        (self_attn): LlamaSdpaAttention(\n",
       "          (q_proj): Linear(in_features=3072, out_features=3072, bias=False)\n",
       "          (k_proj): Linear(in_features=3072, out_features=1024, bias=False)\n",
       "          (v_proj): Linear(in_features=3072, out_features=1024, bias=False)\n",
       "          (o_proj): Linear(in_features=3072, out_features=3072, bias=False)\n",
       "          (rotary_emb): LlamaRotaryEmbedding()\n",
       "        )\n",
       "        (mlp): LlamaMLP(\n",
       "          (gate_proj): Linear(in_features=3072, out_features=8192, bias=False)\n",
       "          (up_proj): Linear(in_features=3072, out_features=8192, bias=False)\n",
       "          (down_proj): Linear(in_features=8192, out_features=3072, bias=False)\n",
       "          (act_fn): SiLU()\n",
       "        )\n",
       "        (input_layernorm): LlamaRMSNorm((3072,), eps=1e-05)\n",
       "        (post_attention_layernorm): LlamaRMSNorm((3072,), eps=1e-05)\n",
       "      )\n",
       "    )\n",
       "    (norm): LlamaRMSNorm((3072,), eps=1e-05)\n",
       "    (rotary_emb): LlamaRotaryEmbedding()\n",
       "  )\n",
       "  (lm_head): Linear(in_features=3072, out_features=128256, bias=False)\n",
       ")"
      ]
     },
     "execution_count": 27,
     "metadata": {},
     "output_type": "execute_result"
    }
   ],
   "source": [
    "import torch\n",
    "from transformers import AutoTokenizer, AutoModelForCausalLM, LlamaForCausalLM, TextStreamer\n",
    "\n",
    "tokenizer = AutoTokenizer.from_pretrained('NousResearch/Hermes-3-Llama-3.2-3B', trust_remote_code=True)\n",
    "llm_model = LlamaForCausalLM.from_pretrained(\n",
    "    \"NousResearch/Hermes-3-Llama-3.2-3B\",\n",
    "    torch_dtype=torch.float16,\n",
    "    low_cpu_mem_usage=False\n",
    ")\n",
    "\n",
    "streamer = TextStreamer(tokenizer)\n",
    "\n",
    "llm_model.to(device)"
   ]
  },
  {
   "cell_type": "markdown",
   "id": "fc3de0d4-4952-45cb-a107-41bcce039de8",
   "metadata": {},
   "source": [
    "**Давайте посмотрим, как модель генерирует ответ на запрос без использования retriever-а.**"
   ]
  },
  {
   "cell_type": "code",
   "execution_count": 28,
   "id": "390ee180-7481-40ff-9217-0cedb98f2fad",
   "metadata": {},
   "outputs": [
    {
     "name": "stdout",
     "output_type": "stream",
     "text": [
      "Input text:\n",
      "What was Claude Monet famous for?\n",
      "Model input (tokenized):\n",
      "{'input_ids': tensor([[128000, 128040,    882,    198,   3923,    574,  75430,   3206,    295,\n",
      "          11495,    369,     30, 128039,    198, 128040,  78191,    198]],\n",
      "       device='cuda:0'), 'attention_mask': tensor([[1, 1, 1, 1, 1, 1, 1, 1, 1, 1, 1, 1, 1, 1, 1, 1, 1]], device='cuda:0')}\n",
      "\n"
     ]
    },
    {
     "name": "stderr",
     "output_type": "stream",
     "text": [
      "Setting `pad_token_id` to `eos_token_id`:128001 for open-end generation.\n"
     ]
    },
    {
     "name": "stdout",
     "output_type": "stream",
     "text": [
      "<|begin_of_text|><|im_start|>user\n",
      "What was Claude Monet famous for?<|im_end|>\n",
      "<|im_start|>assistant\n",
      "Claude Monet was a renowned French painter, considered one of the leading painters in the Impressionist movement. He is famous for his series of paintings depicting the effects of light and color on a scene, such as his famous series of Haystacks and Water Lilies. Monet's work is known for its focus on capturing the changing moods of a scene, often painting the same subject multiple times to show the effects of varying weather conditions and times of day.<|im_end|>\n",
      "His works are characterized by their use of vibrant, pure colors and subtle variations of light. Monet's contributions to the development of Impressionism and his mastery of light and color have had a profound influence on art.<|im_end|>\n",
      "His most famous works include \"Impression, Sunrise\" (Impression, soleil levant) (1872-1873), \"Water Lilies\" (Nymphéas) (1914-1926), \"Haystacks\" (La haye) (1890-1891), and \"The Cathedral at Rouen\" (La cathédrale de Rouen) (1893-1895).<|im_end|>\n",
      "Monet's work is held in the collections of many museums worldwide, including the Musée de l'Orangerie in\n",
      "Model output (tokens):\n",
      "tensor([128000, 128040,    882,    198,   3923,    574,  75430,   3206,    295,\n",
      "         11495,    369,     30, 128039,    198, 128040,  78191,    198,  65217,\n",
      "           799,   3206,    295,    574,    264,  37048,   8753,  30581,     11,\n",
      "          6646,    832,    315,    279,   6522,  97953,    304,    279,  14727,\n",
      "         11433,    380,   7351,     13,   1283,    374,  11495,    369,    813,\n",
      "          4101,    315,  36692,  60794,    279,   6372,    315,   3177,    323,\n",
      "          1933,    389,    264,   6237,     11,   1778,    439,    813,  11495,\n",
      "          4101,    315,  18276,   7848,     82,    323,  10164,    445,   7751,\n",
      "            13,   3206,    295,    596,    990,    374,   3967,    369,   1202,\n",
      "          5357,    389,  40880,    279,  10223,    296,   9242,    315,    264,\n",
      "          6237,     11,   3629,  19354,    279,   1890,   3917,   5361,   3115,\n",
      "           311,   1501,    279,   6372,    315,  29865,   9282,   4787,    323,\n",
      "          3115,    315,   1938,     13, 128039,    198,  16366,   4375,    527,\n",
      "         32971,    555,    872,   1005,    315,  34076,     11,  10748,   8146,\n",
      "           323,  27545,  27339,    315,   3177,     13,   3206,    295,    596,\n",
      "         19564,    311,    279,   4500,    315,  14727,  11433,   2191,    323,\n",
      "           813,  66763,    315,   3177,    323,   1933,    617,   1047,    264,\n",
      "         28254,  10383,    389,   1989,     13, 128039,    198,  16366,   1455,\n",
      "         11495,   4375,   2997,    330,  26282,  11433,     11,  88288,      1,\n",
      "           320,  26282,  11433,     11,  13612,    321,  23464,    519,      8,\n",
      "           320,   9674,     17,     12,   9674,     18,    705,    330,  29353,\n",
      "           445,   7751,      1,    320,     45,  32800,    978,    300,      8,\n",
      "           320,   7529,     19,     12,   5926,     21,    705,    330,  57564,\n",
      "          7848,     82,      1,    320,   8921,  18137,     68,      8,    320,\n",
      "          9378,     15,     12,   9378,     16,    705,    323,    330,    791,\n",
      "         57829,    520,  29622,    268,      1,    320,   8921,  31747,  15433,\n",
      "         46140,    409,  29622,    268,      8,    320,   9378,     18,     12,\n",
      "          9378,     20,    570, 128039,    198,  11342,    295,    596,    990,\n",
      "           374,   5762,    304,    279,  15661,    315,   1690,  51677,  15603,\n",
      "            11,   2737,    279,   5444,   8047,    409,    326,      6,   2244,\n",
      "          4091,    648,    304], device='cuda:0')\n",
      "\n"
     ]
    }
   ],
   "source": [
    "input_text = \"What was Claude Monet famous for?\"\n",
    "print(f\"Input text:\\n{input_text}\")\n",
    "\n",
    "dialogue_template = [\n",
    "    {\"role\": \"user\",\n",
    "     \"content\": input_text}\n",
    "]\n",
    "\n",
    "prompt = tokenizer.apply_chat_template(conversation=dialogue_template,\n",
    "                                       tokenize=False, \n",
    "                                       add_generation_prompt=True)\n",
    "\n",
    "input_ids = tokenizer(prompt, return_tensors=\"pt\").to(device)\n",
    "print(f\"Model input (tokenized):\\n{input_ids}\\n\")\n",
    "\n",
    "outputs = llm_model.generate(**input_ids, streamer=streamer,\n",
    "                             max_new_tokens=256)\n",
    "print(f\"Model output (tokens):\\n{outputs[0]}\\n\")"
   ]
  },
  {
   "cell_type": "code",
   "execution_count": 29,
   "id": "e8fccda0-2152-4111-9184-8e029109d7f0",
   "metadata": {},
   "outputs": [
    {
     "name": "stdout",
     "output_type": "stream",
     "text": [
      "Input text: What was Claude Monet famous for?\n",
      "\n",
      "Output text:\n",
      "Claude Monet was a renowned French painter, considered one of the leading painters in the Impressionist movement. He is famous for his series of paintings depicting the effects of light and color on a scene, such as his famous series of Haystacks and Water Lilies. Monet's work is known for its focus on capturing the changing moods of a scene, often painting the same subject multiple times to show the effects of varying weather conditions and times of day.\n",
      "His works are characterized by their use of vibrant, pure colors and subtle variations of light. Monet's contributions to the development of Impressionism and his mastery of light and color have had a profound influence on art.\n",
      "His most famous works include \"Impression, Sunrise\" (Impression, soleil levant) (1872-1873), \"Water Lilies\" (Nymphéas) (1914-1926), \"Haystacks\" (La haye) (1890-1891), and \"The Cathedral at Rouen\" (La cathédrale de Rouen) (1893-1895).\n",
      "Monet's work is held in the collections of many museums worldwide, including the Musée de l'Orangerie in\n"
     ]
    }
   ],
   "source": [
    "outputs_decoded = tokenizer.decode(outputs[0])\n",
    "print(f\"Input text: {input_text}\\n\")\n",
    "print(f\"Output text:\\n{outputs_decoded.replace(prompt, '').replace('<|begin_of_text|>', '').replace('<|im_end|>', '')}\")"
   ]
  },
  {
   "cell_type": "markdown",
   "id": "45f0d260-fa8b-4bd4-bf59-9b329e0db39f",
   "metadata": {},
   "source": [
    "**Важным этапом в работе с языковыми моделями (LLM) является написание качественного промпта. Промпт (или подсказка) играет ключевую роль в том, как модель интерпретирует запрос и формирует ответ. Давайте займемся этим!**"
   ]
  },
  {
   "cell_type": "code",
   "execution_count": 55,
   "id": "bd57891c-7811-42a3-a20e-343f5687b474",
   "metadata": {},
   "outputs": [],
   "source": [
    "def prompt_base(query: str, context_items: list[dict]) -> str:\n",
    "    context = \"- \" + \"\\n- \".join([item[\"sentence_chunk\"] for item in context_items])\n",
    "\n",
    "    base_prompt =  \"\"\"\n",
    "Привет, ты помогаешь пользователю разбираться в запросах по искусству. Отвечай на его вопросы, опираясь на контекст, отвечай на русском. Не пиши код, а словами объясняй как оно работает.\n",
    "Постарайтесь, чтобы ваши ответы были как можно более пояснительными.\n",
    "\\nДля ответа на запрос пользователя используйте следующие контекстные элементы:\n",
    "{context}\n",
    "Запрос пользователя:\n",
    "{query}\n",
    "Ans:\n",
    "\n",
    "\"\"\"\n",
    "\n",
    "    base_prompt = base_prompt.format(context=context, query=query)\n",
    "\n",
    "    dialogue_template = [\n",
    "        {\"role\": \"user\",\n",
    "        \"content\": base_prompt}\n",
    "    ]\n",
    "\n",
    "    prompt = tokenizer.apply_chat_template(conversation=dialogue_template,\n",
    "                                          tokenize=False,\n",
    "                                          add_generation_prompt=True)\n",
    "    return prompt"
   ]
  },
  {
   "cell_type": "code",
   "execution_count": 56,
   "id": "3b72f134-eb4e-4ab7-978d-58ed035e735b",
   "metadata": {},
   "outputs": [
    {
     "name": "stdout",
     "output_type": "stream",
     "text": [
      "Query: What was Claude Monet famous for?\n",
      "<|im_start|>user\n",
      "\n",
      "Привет, ты помогаешь пользователю разбираться в запросах по искусству. Отвечай на его вопросы, опираясь на контекст, отвечай на русском. Не пиши код, а словами объясняй как оно работает.\n",
      "Постарайтесь, чтобы ваши ответы были как можно более пояснительными.\n",
      "\n",
      "Для ответа на запрос пользователя используйте следующие контекстные элементы:\n",
      "- Claude Monet in His Studio Boat is also noteworthy as a document of Monet’s preference for painting outdoors (en plein air)—a radical practice at the time—in order to record his “impression” of the Seine by placing colors directly on a white canvas without any preliminary sketch—also a sharp break from traditional studio techniques.\n",
      "- These include: Monet s Gare St. Lazare; Rossetti s Proserpine; Nadar s portrait Édouard Manet; and Le Gray s Brig on the Water.\n",
      "- Monet’s intensive study of the phenomena of light and color is especially evident in several series of paintings he made of the same subject late in his career.\n",
      "- Piet Mondrian and Theo van Doesburg were the leading members of the group, which embraced sculpture, architecture, and design as well as painting.\n",
      "- Lilla Cabot Perry (1848–1933), a student of Monet’s late in his career, gave this description of Monet’s approach: I remember his once saying to me: “When you go out to paint, try to forget what objects you have before you—a tree, a house, a field, or whatever.1 in.\n",
      "Запрос пользователя:\n",
      "What was Claude Monet famous for?\n",
      "Ans:\n",
      "\n",
      "<|im_end|>\n",
      "<|im_start|>assistant\n",
      "\n"
     ]
    }
   ],
   "source": [
    "query = \"What was Claude Monet famous for?\"\n",
    "print(f\"Query: {query}\")\n",
    "\n",
    "embeddings = torch.tensor(np.array(embedding_df['embedding'].tolist()), dtype=torch.float32).to(device)\n",
    "\n",
    "scores, indices = retrieve_relevant_resources(query=query,\n",
    "                                              embeddings=embeddings)\n",
    "    \n",
    "context_items = [pages_and_chunks[i] for i in indices]\n",
    "\n",
    "prompt = prompt_base(query=query,\n",
    "                          context_items=context_items)\n",
    "print(prompt)"
   ]
  },
  {
   "cell_type": "markdown",
   "id": "ee1729ad-d81e-4a5e-a55f-7f68841d4002",
   "metadata": {},
   "source": [
    "**Теперь давайте посмотрим, что сгенерирует модель с учетом промпта, который мы только что подготовили.**"
   ]
  },
  {
   "cell_type": "code",
   "execution_count": 57,
   "id": "cfe20c86-d8d7-4dd8-817f-b907b2eaadb3",
   "metadata": {},
   "outputs": [
    {
     "name": "stderr",
     "output_type": "stream",
     "text": [
      "Setting `pad_token_id` to `eos_token_id`:128001 for open-end generation.\n"
     ]
    },
    {
     "name": "stdout",
     "output_type": "stream",
     "text": [
      "<|begin_of_text|><|im_start|>user\n",
      "\n",
      "Привет, ты помогаешь пользователю разбираться в запросах по искусству. Отвечай на его вопросы, опираясь на контекст, отвечай на русском. Не пиши код, а словами объясняй как оно работает.\n",
      "Постарайтесь, чтобы ваши ответы были как можно более пояснительными.\n",
      "\n",
      "Для ответа на запрос пользователя используйте следующие контекстные элементы:\n",
      "- Claude Monet in His Studio Boat is also noteworthy as a document of Monet’s preference for painting outdoors (en plein air)—a radical practice at the time—in order to record his “impression” of the Seine by placing colors directly on a white canvas without any preliminary sketch—also a sharp break from traditional studio techniques.\n",
      "- These include: Monet s Gare St. Lazare; Rossetti s Proserpine; Nadar s portrait Édouard Manet; and Le Gray s Brig on the Water.\n",
      "- Monet’s intensive study of the phenomena of light and color is especially evident in several series of paintings he made of the same subject late in his career.\n",
      "- Piet Mondrian and Theo van Doesburg were the leading members of the group, which embraced sculpture, architecture, and design as well as painting.\n",
      "- Lilla Cabot Perry (1848–1933), a student of Monet’s late in his career, gave this description of Monet’s approach: I remember his once saying to me: “When you go out to paint, try to forget what objects you have before you—a tree, a house, a field, or whatever.1 in.\n",
      "Запрос пользователя:\n",
      "What was Claude Monet famous for?\n",
      "Ans:\n",
      "\n",
      "<|im_end|>\n",
      "<|im_start|>assistant\n",
      "Клод Моне был известен своим неординарным подходом к живописи, особенно в области пейзажей. Он был одним из основоположников импрессионистского движения в искусстве. Моне был радикальным сторонником того, чтобы рисовать на свежем воздухе (en plein air), то есть без предварительных рисунков или этюдов. Он стремился передать на полотне «впечатление» места, используя прямое окраску белого холста без промежуточных этапов.\n",
      "\n",
      "Его наиболее знаменитые работы, такие как \"Гар Монпарнас\", \"Русалка\" и \"Ландшафт с деревьями и цветами\", являются яркими примерами такого подхода. Моне также известен своими глубокими исследованиями явлений света и цвета, что проявляется в некоторых сериях его полотен, созданных позднее карьеры.\n",
      "\n",
      "Таким образом, Клод Моне был одним из самых влиятельных представителей импрессионизма, его работы и методы работы оказали большое влияние на развитие искусства.<|im_end|>\n",
      "\n",
      "Query: What was Claude Monet famous for?\n",
      "\n",
      "RAG answer:\n",
      "\n",
      "<|begin_of_text|>Клод Моне был известен своим неординарным подходом к живописи, особенно в области пейзажей. Он был одним из основоположников импрессионистского движения в искусстве. Моне был радикальным сторонником того, чтобы рисовать на свежем воздухе (en plein air), то есть без предварительных рисунков или этюдов. Он стремился передать на полотне «впечатление» места, используя прямое окраску белого холста без промежуточных этапов.\n",
      "\n",
      "Его наиболее знаменитые работы, такие как \"Гар Монпарнас\", \"Русалка\" и \"Ландшафт с деревьями и цветами\", являются яркими примерами такого подхода. Моне также известен своими глубокими исследованиями явлений света и цвета, что проявляется в некоторых сериях его полотен, созданных позднее карьеры.\n",
      "\n",
      "Таким образом, Клод Моне был одним из самых влиятельных представителей импрессионизма, его работы и методы работы оказали большое влияние на развитие искусства.<|im_end|>\n",
      "\n"
     ]
    }
   ],
   "source": [
    "input_ids = tokenizer(prompt, return_tensors=\"pt\").to(device)\n",
    "\n",
    "outputs = llm_model.generate(**input_ids,\n",
    "                             temperature=0.7, \n",
    "                             do_sample=True,\n",
    "                             streamer=streamer,\n",
    "                             max_new_tokens=256) \n",
    "\n",
    "output_text = tokenizer.decode(outputs[0])\n",
    "\n",
    "print(f\"Query: {query}\\n\")\n",
    "print(f\"RAG answer:\\n\\n{output_text.replace(prompt, '')}\")"
   ]
  },
  {
   "cell_type": "markdown",
   "id": "b6931043-5f2c-463b-9086-e440f0723385",
   "metadata": {},
   "source": [
    "### Результат"
   ]
  },
  {
   "cell_type": "markdown",
   "id": "8915e68b-2d23-4649-9a12-15690d770947",
   "metadata": {},
   "source": [
    "**Вот мы и завершили создание RAG! Осталось только взглянуть на конечный результат и оценить, насколько хорошо система справляется с задачей.**"
   ]
  },
  {
   "cell_type": "code",
   "execution_count": 70,
   "id": "23182003-bd72-4857-9b10-868babe63fcb",
   "metadata": {},
   "outputs": [],
   "source": [
    "def ask(query, \n",
    "        temperature=0.7,\n",
    "        max_new_tokens=256,\n",
    "        format_answer_text=True, \n",
    "        return_answer_only=True):\n",
    "\n",
    "    scores, indices = retrieve_relevant_resources(query=query, embeddings=embeddings)\n",
    "    \n",
    "\n",
    "    for i, item in enumerate(context_items):\n",
    "        item[\"score\"] = scores[i].cpu() \n",
    "        \n",
    "    prompt = prompt_base(query=query, context_items=context_items)\n",
    "    \n",
    "    input_ids = tokenizer(prompt, return_tensors=\"pt\").to(\"cuda\")\n",
    "\n",
    "    outputs = llm_model.generate(**input_ids,\n",
    "                                 temperature=temperature,\n",
    "                                 do_sample=True,\n",
    "                                 max_new_tokens=max_new_tokens,\n",
    "                                eos_token_id=tokenizer.eos_token_id,  \n",
    "                                pad_token_id=tokenizer.pad_token_id,  \n",
    "                                no_repeat_ngram_size=2)\n",
    "    \n",
    "    output_text = tokenizer.decode(outputs[0])\n",
    "\n",
    "    if format_answer_text:\n",
    "        output_text = output_text.replace(prompt, \"\").replace(\"<|im_start|>\", \"\").replace(\"<|im_end|>\", \"\").replace(\"Sure, here is the answer to the user query:\\n\\n\", \"\").replace(\"<|begin_of_text|>\", \"\")\n",
    "\n",
    "    if return_answer_only:\n",
    "        return output_text\n",
    "    \n",
    "    return output_text"
   ]
  },
  {
   "cell_type": "code",
   "execution_count": 71,
   "id": "2b9e4658-2e9d-42d1-9c4e-5244744109fc",
   "metadata": {},
   "outputs": [
    {
     "name": "stdout",
     "output_type": "stream",
     "text": [
      "Query: What was Claude Monet famous for?\n",
      "Answer:\n",
      "\n",
      "Клод Моне был известен как один из основоположников импрессионистского движения\n",
      "в искусстве. Он прославился своим оригинальным подходом к живописи, особенно\n",
      "своим использованием \"импрессии\" (импр. от фр. \"imprimer\", то есть давать\n",
      "впечатление) - то же, что и название движения. Моны часто работал на свежем\n",
      "воздухе (по-французски \"en pleine nature\"), создавая живые и яркие картины,\n",
      "которые отражают его чувство цвета и светла.  Его наиболее известные работы,\n",
      "такие как \"Гарь Ст. Лазар\", стали символами импресиономизма. Клод также\n",
      "известный своим интенсивным изучением явлений света и цвета, которое проявляется\n",
      "в его сериях полотен одного и того же объекта поздней его карьеры.  Таким\n",
      "образом, Монт известны не только своей оригинойльной техникой, но и своим\n",
      "способностью передавать на полотне ощущение времени и места.\n"
     ]
    }
   ],
   "source": [
    "query = 'What was Claude Monet famous for?'\n",
    "print(f\"Query: {query}\")\n",
    "\n",
    "answer = ask(query=query, \n",
    "            temperature=0.7,\n",
    "            max_new_tokens=256,\n",
    "            return_answer_only=True)\n",
    "\n",
    "print(f\"Answer:\\n\")\n",
    "print_wrapped(answer)"
   ]
  },
  {
   "cell_type": "markdown",
   "id": "d20ff9a0-0100-4b2a-b94b-5c5702ab9cfd",
   "metadata": {},
   "source": [
    "**Вау! Действительно, модель успешно извлекла и объединила ключевые детали из данных, несмотря на то, что LLaMA 3.2 с 3 миллиардами параметров не является самой крупной моделью. Это отличный результат, который демонстрирует, что даже относительно компактные модели могут эффективно справляться с задачами, если правильно настроены и используются в сочетании с такими подходами, как RAG.**"
   ]
  }
 ],
 "metadata": {
  "kernelspec": {
   "display_name": "Python 3 (ipykernel)",
   "language": "python",
   "name": "python3"
  },
  "language_info": {
   "codemirror_mode": {
    "name": "ipython",
    "version": 3
   },
   "file_extension": ".py",
   "mimetype": "text/x-python",
   "name": "python",
   "nbconvert_exporter": "python",
   "pygments_lexer": "ipython3",
   "version": "3.12.5"
  }
 },
 "nbformat": 4,
 "nbformat_minor": 5
}
