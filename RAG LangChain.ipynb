{
 "cells": [
  {
   "cell_type": "markdown",
   "id": "8f328ac8-8ca3-4524-b1d6-707fd7890299",
   "metadata": {},
   "source": [
    "# Создание и запуск RAG | LangChain"
   ]
  },
  {
   "cell_type": "markdown",
   "id": "d640c6e6-092b-4460-9c37-a464e2a7001e",
   "metadata": {},
   "source": [
    "### Обработка документов"
   ]
  },
  {
   "cell_type": "markdown",
   "id": "5d2a6be7-f740-4d10-99d3-5a21e3142d3a",
   "metadata": {},
   "source": [
    "**Давайте реализуем логику RAG (Retrieval-Augmented Generation) с использованием LangChain.**"
   ]
  },
  {
   "cell_type": "markdown",
   "id": "54410429-fd72-41ec-bf9b-6a1dec7eeae1",
   "metadata": {},
   "source": [
    "**LangChain упрощает создание и управление конвейерами RAG, предоставляя инструменты для интеграции моделей, работы с данными и управления контекстом. Он также облегчает взаимодействие с внешними источниками данных и языковыми моделями, что делает процесс разработки более гибким и эффективным.**"
   ]
  },
  {
   "cell_type": "markdown",
   "id": "bb72c7cb-d343-487f-be45-daef62c2d628",
   "metadata": {},
   "source": [
    "**Давайте на практике разберем, так ли это.**"
   ]
  },
  {
   "cell_type": "markdown",
   "id": "e777808d-ec99-48ac-af4c-a72ded7d2cde",
   "metadata": {},
   "source": [
    "**Первым шагом загрузим все наши PDF-файлы, из которых будем извлекать необходимую информацию. Для удобства работы перенесем все файлы в список (list) в Python.**"
   ]
  },
  {
   "cell_type": "code",
   "execution_count": 2,
   "id": "bbac5d6c-60bb-43ab-8e7f-ff13fcb74d22",
   "metadata": {},
   "outputs": [
    {
     "name": "stdout",
     "output_type": "stream",
     "text": [
      "['Gardners Art Through the Ages The Western Perspective, Volume I,.pdf', 'History_of_Art.pdf', 'Transformative Art Movements and the Paintings That Inspired Them - 2013.pdf', 'Vasari Giorgio_The_Lives_of_the_Artists_Oxford.pdf']\n"
     ]
    }
   ],
   "source": [
    "import os\n",
    "from tqdm.auto import tqdm\n",
    "\n",
    "import warnings\n",
    "warnings.filterwarnings('ignore')\n",
    "\n",
    "pdf_list = []\n",
    "\n",
    "for pdf in os.listdir('Art'): # Место хранения данных\n",
    "    if os.path.isfile(os.path.join('Art', pdf)): # Место хранения данных\n",
    "        pdf_list.append(pdf)\n",
    "\n",
    "print(pdf_list)"
   ]
  },
  {
   "cell_type": "code",
   "execution_count": 3,
   "id": "faf6a832-7298-4cc5-b45a-e8c7e6145e56",
   "metadata": {},
   "outputs": [
    {
     "data": {
      "application/vnd.jupyter.widget-view+json": {
       "model_id": "496942b8af674830bdf2d20bff4c60ab",
       "version_major": 2,
       "version_minor": 0
      },
      "text/plain": [
       "  0%|          | 0/4 [00:00<?, ?it/s]"
      ]
     },
     "metadata": {},
     "output_type": "display_data"
    }
   ],
   "source": [
    "from langchain.document_loaders import PyPDFLoader\n",
    "\n",
    "documents = []\n",
    "\n",
    "# Загрузка PDF\n",
    "for pdf in tqdm(pdf_list):\n",
    "    loader = PyPDFLoader(\"Art/\" + pdf)\n",
    "    documents += loader.load()"
   ]
  },
  {
   "cell_type": "code",
   "execution_count": 4,
   "id": "8dca328a-802b-41a9-aa3a-44598a7715b0",
   "metadata": {},
   "outputs": [
    {
     "data": {
      "text/plain": [
       "Document(metadata={'source': 'Art/Vasari Giorgio_The_Lives_of_the_Artists_Oxford.pdf', 'page': 252}, page_content=\"226 SANDRO BOTTICELLI\\npanels, which contained many beautiful and lifelike figures.*\\nLikewise, for the Pucci home, he illustrated Boccaccio's\\nnovella of Nastagio degli Onesti, in four paintings with tiny\\nfigures, which are most lovely and delightful,* along with a\\ntondo depicting the Epiphany.*\\nFor the monks of Cestello, he painted a panel of the Annun-\\nciation in one of their chapels.* In the church of San Pietro\\nMaggiore, at the side door, he painted a panel for Matteo\\nPalmieri with a vast number of figures depicting the Assump-\\ntion of the Virgin and including the heavenly spheres as they\\nare represented, the Patriarchs, Prophets, Apostles, Evangelists,\\nMartyrs, Confessors, Doctors of the Church, Holy Virgins,\\nand the Hierarchies of Angels, all taken from a drawing given\\nto him by Matteo, who was a learned and worthy man.*\\nSandro painted this work with masterful skill and minute\\nattention. At the foot of the •work, he included portraits of\\nMatteo and his wife kneeling. But in spite of the fact that this\\npainting was so beautiful it should have overcome all envy,\\nthere were nevertheless some slanderers and detractors who,\\nunable to condemn the work in any other way, accused\\nMatteo and Sandro of having committed the grievous sin of\\nheresy.* Whether this is true or not, I am not the person to\\npass judgement, but it is enough for me that the figures\\nSandro painted here arc truly to be praised, both for the effort\\nhe expended in drawing the heavenly spheres, and for the\\ndifferent ways in which he used foreshortenings and spaces\\nbetween the figures and angels, all of -which he executed with\\na fine sense of design. During this period, Sandro was com-\\nmissioned to do a small panel with figures three-quarters of an\\narmslength high which was placed in Santa Maria Novella\\nbetween the two doors in the main facade of the church on\\nthe left as one enters through the middle door.* It depicts the\\nAdoration of the Magi, and in it the first old man, overcome\\nby tenderness as he kisses the foot of Our Lord, expresses so\\nmuch emotion that it is clear he has reached the end of his\\nlong journey. The figure of this king is the actual portrait of\\nCosimo de' Medici, 'II Vecchio', and is the most lifelike and\\nnatural of all such portraits that have survived to our day. The\\nsecond king, actually a portrait of Giuliano de' Medici, the\\n\")"
      ]
     },
     "execution_count": 4,
     "metadata": {},
     "output_type": "execute_result"
    }
   ],
   "source": [
    "documents[2930]"
   ]
  },
  {
   "cell_type": "markdown",
   "id": "df826044-c7af-40fa-8d58-160749810897",
   "metadata": {},
   "source": [
    "**LangChain предоставляет различные методы для разделения текста на фрагменты (чанки). Воспользуемся RecursiveCharacterTextSplitter, чтобы рекурсивно разделить текст по указанным символам.**"
   ]
  },
  {
   "cell_type": "code",
   "execution_count": 5,
   "id": "33788fcc-0ec3-44ce-932b-e45fa4f368ae",
   "metadata": {},
   "outputs": [],
   "source": [
    "from langchain.text_splitter import RecursiveCharacterTextSplitter\n",
    "\n",
    "separators = [\n",
    "    \"\\n#{1,6} \",\n",
    "    \"```\\n\",\n",
    "    \"\\n\\\\*\\\\*\\\\*+\\n\",\n",
    "    \"\\n---+\\n\",\n",
    "    \"\\n___+\\n\",\n",
    "    \"\\n\\n\",\n",
    "    \"\\n\",\n",
    "    \" \",\n",
    "    \"\",\n",
    "]\n",
    "\n",
    "# Разделение на чанки\n",
    "text_splitter = RecursiveCharacterTextSplitter(\n",
    "    chunk_size=800,  # Размер чанка\n",
    "    chunk_overlap=100,  # Перекрытие между чанками\n",
    "    add_start_index=True,\n",
    "    strip_whitespace=True,\n",
    "    separators=separators\n",
    ")\n",
    "chunks = text_splitter.split_documents(documents)"
   ]
  },
  {
   "cell_type": "code",
   "execution_count": 6,
   "id": "4f43f6e6-641d-4527-b5b9-15f321ff7a80",
   "metadata": {},
   "outputs": [
    {
     "data": {
      "text/plain": [
       "Document(metadata={'source': 'Art/Gardners Art Through the Ages The Western Perspective, Volume I,.pdf', 'page': 54, 'start_index': 3440}, page_content='architectural contexts shed a welcome light on the administration and \\norganization of Mesopotamian city-states. Finally, Mesopotamian seals \\nare an invaluable resource for art historians, providing them with thou-\\nsands of miniature examples of relief sculpture spanning three millennia.\\n2-8 Banquet scene, cylinder seal (left) and its modern impression (right), from the tomb of Puabi (tomb 800), Royal  \\nCemetery, Ur (modern Tell Muqayyar), Iraq, ca. 2550 bce. Lapis lazuli, 1 7\\n80 high, 10 diameter. British Museum, London.\\nThe Mesopotamians used seals to identify and secure goods. Artists incised designs into stone cylinders that could be rolled over clay \\nto produce miniature artworks such as this banquet scene.\\n1 in.')"
      ]
     },
     "execution_count": 6,
     "metadata": {},
     "output_type": "execute_result"
    }
   ],
   "source": [
    "chunks[333]"
   ]
  },
  {
   "cell_type": "code",
   "execution_count": 7,
   "id": "0c27cc70-e6db-4e0a-bbc6-8c7a75e0302b",
   "metadata": {},
   "outputs": [
    {
     "data": {
      "text/plain": [
       "22194"
      ]
     },
     "execution_count": 7,
     "metadata": {},
     "output_type": "execute_result"
    }
   ],
   "source": [
    "len(chunks)"
   ]
  },
  {
   "cell_type": "markdown",
   "id": "d5a7c1e6-4aca-4770-874d-dbc06e719a8a",
   "metadata": {},
   "source": [
    "### Создание векторов и Семантический поиск"
   ]
  },
  {
   "cell_type": "markdown",
   "id": "85f1ae85-c8e6-4023-982f-7c8d67d834aa",
   "metadata": {},
   "source": [
    "**Для эффективного поиска ближайших соседей на основе косинусного расстояния воспользуемся библиотекой FAISS.**"
   ]
  },
  {
   "cell_type": "code",
   "execution_count": 8,
   "id": "bd61eb30-e954-4dcd-985a-a2c11e5ad1c3",
   "metadata": {},
   "outputs": [
    {
     "name": "stderr",
     "output_type": "stream",
     "text": [
      "C:\\Users\\Komp\\AppData\\Local\\Temp\\ipykernel_21752\\3982447926.py:5: LangChainDeprecationWarning: The class `HuggingFaceEmbeddings` was deprecated in LangChain 0.2.2 and will be removed in 1.0. An updated version of the class exists in the :class:`~langchain-huggingface package and should be used instead. To use it run `pip install -U :class:`~langchain-huggingface` and import as `from :class:`~langchain_huggingface import HuggingFaceEmbeddings``.\n",
      "  embedding_model = HuggingFaceEmbeddings(\n"
     ]
    }
   ],
   "source": [
    "from langchain.vectorstores import FAISS\n",
    "from langchain_community.embeddings import HuggingFaceEmbeddings\n",
    "from langchain_community.vectorstores.utils import DistanceStrategy\n",
    "\n",
    "embedding_model = HuggingFaceEmbeddings(\n",
    "    model_name='sentence-transformers/all-mpnet-base-v2',\n",
    "    multi_process=True,\n",
    "    model_kwargs={\"device\": \"cuda\"},\n",
    "    encode_kwargs={\"normalize_embeddings\": True}   \n",
    ")\n",
    "\n",
    "vector_database = FAISS.from_documents(chunks, embedding_model, distance_strategy=DistanceStrategy.COSINE)"
   ]
  },
  {
   "cell_type": "code",
   "execution_count": 9,
   "id": "db04b7b8-05d6-4044-822b-7454c217060a",
   "metadata": {},
   "outputs": [
    {
     "data": {
      "text/plain": [
       "<langchain_community.vectorstores.faiss.FAISS at 0x251c817a7b0>"
      ]
     },
     "execution_count": 9,
     "metadata": {},
     "output_type": "execute_result"
    }
   ],
   "source": [
    "vector_database"
   ]
  },
  {
   "cell_type": "markdown",
   "id": "01ca6520-7f47-4688-b6c5-48cb2cfa6daf",
   "metadata": {},
   "source": [
    "**Теперь мы можем найти среди наших фрагментов (чанков) те, которые находятся ближе всего к запросу. Для этого используем предварительно созданный индекс FAISS.**"
   ]
  },
  {
   "cell_type": "code",
   "execution_count": 10,
   "id": "b0058e8f-7d2a-4f94-b800-47f0870fec8c",
   "metadata": {},
   "outputs": [
    {
     "data": {
      "text/plain": [
       "[Document(id='f3e564f8-f5fd-44a1-b658-adfa17e73354', metadata={'source': 'Art/Transformative Art Movements and the Paintings That Inspired Them - 2013.pdf', 'page': 288, 'start_index': 672}, page_content='during the Franco-Prussian War, Monet returned to \\nFrance, making his home in a succession of \\nsuburban towns near Paris before settling in Giverny \\nin 1883. Throughout his long career, Monet remained \\nfaithful to the Impressionist aim of exploring the \\nchanging quality of light and color in landscape. His \\nseries of paintings of grainstacks, Rouen Cathedral, \\nand waterlilies depict speciﬁc sites under differing \\nlight and weather conditions.\\nBIOGRAPHY'),\n",
       " Document(id='2399acf7-4236-48b8-a75c-8a7a5c3de1a6', metadata={'source': 'Art/Gardners Art Through the Ages The Western Perspective, Volume I,.pdf', 'page': 1083, 'start_index': 2127}, page_content='(Monet), 853, 854\\nRousseau, Henri, 872–873; The Dream, \\n873, 873, 28-28A, 29-17A; Sleeping \\nGypsy, 872, 873\\nRousseau, Jean-Jacques, 779, 781; Social \\nContract, 808\\nRoyal Pavilion, Brighton (Nash), 836, \\n838, 839\\nRubénistes, 775\\nRubens, Peter Paul, 668, 733, 741–744, \\n775, 27-16A; Allegory of Sight, 741, \\n741, 25-1A; Arrival of Marie de’ \\nMedici at Marseilles, 742, 744, 744; \\nConsequences of War, 742, 743, 743; \\nDe imitatione statuarum, 742; Ele-\\nvation of the Cross, 741–742, 741; \\nGarden of Love, 744, 744, 25-4A; \\nletter to Justus Sustermans, 743; \\nLion Hunt, 10, 10, 741; Santa Wal-\\nburga triptych, 741\\nRude, François, 815–816; Departure of \\nthe Volunteers of 1792 (La Marseil-\\nlaise), Arc de Triomphe, Paris, 816, \\n816, 27-18A\\nPoissy-sur-Seine (France), Villa Savoye'),\n",
       " Document(id='48bbf048-4998-418e-b2ca-7ab6aac9b8c3', metadata={'source': 'Art/Transformative Art Movements and the Paintings That Inspired Them - 2013.pdf', 'page': 254, 'start_index': 1365}, page_content='a ﬂourishing career, producing ambitious \\nlandscapes in the manner of Old Masters, such as \\nClaude Lorrain. But his approach to landscape and \\nseascape gradually became more dramatic and \\nRomantic. He toured the Continent several times, \\npainting in France, Germany, Switzerland, the \\nLow Countries, and Italy. In the last two decades \\nof his life his painting became increasingly free, at \\ntimes almost abstract, with detail obliterated by \\ncolor and light.\\nBIOGRAPHY'),\n",
       " Document(id='1fe6d245-2323-4f81-8e25-a7f7b6242e9b', metadata={'source': 'Art/Vasari Giorgio_The_Lives_of_the_Artists_Oxford.pdf', 'page': 359, 'start_index': 2061}, page_content='painting, with sound design and a pleasing style of colouring,\\nalthough he sometimes used too much shadow to give his\\nworks greater relief, and he took from Fra Bartolomeo what\\nhe thought appropriate according to his needs and fancy—that'),\n",
       " Document(id='59ae31f3-50a8-4be5-b4ed-8f594774c3f9', metadata={'source': 'Art/Gardners Art Through the Ages The Western Perspective, Volume I,.pdf', 'page': 850, 'start_index': 2103}, page_content='Doncieux, Monet’s wife (compare fig. 28-2A), is at once the painter’s admirer and his muse. In the dis-\\ntance are the factories and smokestacks that represent the opposite pole of life at Argenteuil. In captur-\\ning both the leisure activities of the bourgeoisie and the industrialization along the Seine in the 1870s on \\nthe same canvas, Manet, like Monet, was fulfilling Baudelaire’s definition of “the painter of modern life. ”\\nClaude Monet in His Studio Boat  is also noteworthy as a document of Monet’s preference for \\npainting outdoors (en plein air)—a radical practice at the time—in order to record his “impression” \\nof the Seine by placing colors directly on a white canvas without any preliminary sketch—also a sharp')]"
      ]
     },
     "execution_count": 10,
     "metadata": {},
     "output_type": "execute_result"
    }
   ],
   "source": [
    "query = 'What was Claude Monet famous for?'\n",
    "similar_docs = vector_database.similarity_search(query, k=5)\n",
    "similar_docs"
   ]
  },
  {
   "cell_type": "markdown",
   "id": "651b7fa1-8168-48ff-8b75-9e10150ec644",
   "metadata": {},
   "source": [
    "**В качестве языковой модели будем использовать Mistral-7b-v0.1.**"
   ]
  },
  {
   "cell_type": "markdown",
   "id": "c7b6c13c-29af-492a-922a-7b7582b8821d",
   "metadata": {},
   "source": [
    "### Добавление LLM"
   ]
  },
  {
   "cell_type": "code",
   "execution_count": 11,
   "id": "7f12d29d-f9f2-49f0-8f71-1f937f680bfe",
   "metadata": {},
   "outputs": [],
   "source": [
    "from huggingface_hub import InferenceClient\n",
    "\n",
    "client = InferenceClient(token=api_key)\n",
    "\n",
    "model_name = \"mistralai/Mistral-7B-v0.1\"\n",
    "\n",
    "def generate_text(prompt):\n",
    "    response = client.text_generation(\n",
    "        prompt=prompt,\n",
    "        model=model_name,\n",
    "        do_sample=True,\n",
    "        temperature=0.7,\n",
    "        return_full_text=False,\n",
    "        max_new_tokens=500\n",
    "    )\n",
    "    return response"
   ]
  },
  {
   "cell_type": "markdown",
   "id": "18fd43ef-6fb7-48a9-b0a2-6907c7688aaf",
   "metadata": {},
   "source": [
    "**Давайте протестируем модель Mistral-7b-v0.1 без использования заранее подготовленных данных, чтобы оценить её способность генерировать ответы исключительно на основе своих внутренних знаний.**"
   ]
  },
  {
   "cell_type": "code",
   "execution_count": 12,
   "id": "8e32de94-d500-4eee-8ac7-c289cda851eb",
   "metadata": {},
   "outputs": [
    {
     "data": {
      "text/plain": [
       "'\\n\\nMonet was best known for his pioneering role in the development of the Impressionist style of painting. He is particularly known for his series paintings of Haystacks, the Houses of Parliament, and his Water Lilies.  Claude Oscar Monet was born on 14 November 1840 in Paris, France.\\n\\nWhy did Monet choose to paint the water lilies?\\n\\nThe Water Lilies are the artistic and poetic expression of his wife’s garden and the quiet moments he would spend in it. The paintings reflect Monet’s obsession with the elusive effects of light and water, which he used to create a highly sensual experience for the viewer.\\n\\nWhy is Claude Monet famous?\\n\\nClaude Monet. Claude Monet was the leader of the Impressionists, a group of artists who pioneered a new style of painting in the late 19th century. He began painting at the age of 15, and his talent was quickly recognized, even as he taught himself to paint.\\n\\nWhat are Claude Monet famous paintings?\\n\\nMost Famous Works. Monet\\'s most famous paintings include \"Rouen Cathedral\" (1894), \"The Water Lily Pond\" (1899), \"Water Lilies\" (1914-1918) and \"The Museum of France\" (1912).'"
      ]
     },
     "execution_count": 12,
     "metadata": {},
     "output_type": "execute_result"
    }
   ],
   "source": [
    "generate_text(\"What was Claude Monet famous for?\")"
   ]
  },
  {
   "cell_type": "markdown",
   "id": "f141618f-1d58-465d-88db-5b75b0264563",
   "metadata": {},
   "source": [
    "**Супер! Мы можем улучшить качество поиска релевантных документов, упорядочивания результатов поиска на основе их семантической близости к запросу, это называется Reranker.**"
   ]
  },
  {
   "cell_type": "code",
   "execution_count": 13,
   "id": "24ee95c1-5f33-48ec-bf83-e6a1687eaef8",
   "metadata": {},
   "outputs": [],
   "source": [
    "from sentence_transformers import CrossEncoder\n",
    "\n",
    "reranker = CrossEncoder(\"cross-encoder/ms-marco-MiniLM-L-6-v2\")\n",
    "\n",
    "def rerank_chunks(query, chunks):\n",
    "    scores = reranker.predict([(query, chunk) for chunk in chunks])\n",
    "\n",
    "    ranked_chunks = [chunk for _, chunk in sorted(zip(scores, chunks), reverse=True)]\n",
    "\n",
    "    return ranked_chunks[:3]"
   ]
  },
  {
   "cell_type": "markdown",
   "id": "f38044fe-f14b-4dec-b798-7d6932f054df",
   "metadata": {},
   "source": [
    "**Взглянем на самые релевантные чанки, найденные в результате поиска.**"
   ]
  },
  {
   "cell_type": "code",
   "execution_count": 14,
   "id": "8c3837d6-36f4-4152-8fd1-1581cd5a87e8",
   "metadata": {},
   "outputs": [
    {
     "name": "stdout",
     "output_type": "stream",
     "text": [
      "during the Franco-Prussian War, Monet returned to \n",
      "France, making his home in a succession of \n",
      "suburban towns near Paris before settling in Giverny \n",
      "in 1883. Throughout his long career, Monet remained \n",
      "faithful to the Impressionist aim of exploring the \n",
      "changing quality of light and color in landscape. His \n",
      "series of paintings of grainstacks, Rouen Cathedral, \n",
      "and waterlilies depict speciﬁc sites under differing \n",
      "light and weather conditions.\n",
      "BIOGRAPHY\n",
      "Doncieux, Monet’s wife (compare fig. 28-2A), is at once the painter’s admirer and his muse. In the dis-\n",
      "tance are the factories and smokestacks that represent the opposite pole of life at Argenteuil. In captur-\n",
      "ing both the leisure activities of the bourgeoisie and the industrialization along the Seine in the 1870s on \n",
      "the same canvas, Manet, like Monet, was fulfilling Baudelaire’s definition of “the painter of modern life. ”\n",
      "Claude Monet in His Studio Boat  is also noteworthy as a document of Monet’s preference for \n",
      "painting outdoors (en plein air)—a radical practice at the time—in order to record his “impression” \n",
      "of the Seine by placing colors directly on a white canvas without any preliminary sketch—also a sharp\n",
      "a ﬂourishing career, producing ambitious \n",
      "landscapes in the manner of Old Masters, such as \n",
      "Claude Lorrain. But his approach to landscape and \n",
      "seascape gradually became more dramatic and \n",
      "Romantic. He toured the Continent several times, \n",
      "painting in France, Germany, Switzerland, the \n",
      "Low Countries, and Italy. In the last two decades \n",
      "of his life his painting became increasingly free, at \n",
      "times almost abstract, with detail obliterated by \n",
      "color and light.\n",
      "BIOGRAPHY\n"
     ]
    }
   ],
   "source": [
    "similar_chunks = [doc.page_content for doc in similar_docs]\n",
    "\n",
    "ranked_chunks = rerank_chunks(query, similar_chunks)\n",
    "\n",
    "context = \"\\n\".join(ranked_chunks)\n",
    "\n",
    "print(context)"
   ]
  },
  {
   "cell_type": "markdown",
   "id": "b891765d-e9df-4e67-a4d7-a53499828a94",
   "metadata": {},
   "source": [
    "**Зададим промпт, чтобы модель четко поняла, какую задачу мы хотим решить. Это поможет направить её на генерацию наиболее точного и релевантного ответа.**"
   ]
  },
  {
   "cell_type": "code",
   "execution_count": 15,
   "id": "316d0dc5-5597-4461-b7e1-e6be03cd18b6",
   "metadata": {},
   "outputs": [
    {
     "name": "stdout",
     "output_type": "stream",
     "text": [
      "Based on the following context items, please answer the query.\n",
      "Give yourself room to think by extracting relevant passages from the context before answering the query.\n",
      "Don't return the thinking, only return the answer.\n",
      "Make sure your answers are as explanatory as possible.\n",
      "Use the following examples as reference for the ideal answer style.\n",
      "\n",
      "Example 1:\n",
      "Query: What are the key characteristics of Impressionism?\n",
      "Answer: Impressionism is an art movement that originated in the late 19th century, characterized by its focus on capturing light and its changing qualities, ordinary subject matter, and unusual visual angles. Artists like Claude Monet and Pierre-Auguste Renoir used loose brushwork and vibrant colors to depict scenes from everyday life, often painting en plein air (outdoors) to better capture the natural light and atmosphere. The movement marked a departure from the detailed, polished style of academic painting, emphasizing instead the artist's perception and the transient effects of light.\n",
      "\n",
      "Example 2:\n",
      "Query: What is the significance of the Renaissance in art history?\n",
      "Answer: The Renaissance was a pivotal period in art history, spanning from the 14th to the 17th century, marked by a revival of interest in the classical art and culture of ancient Greece and Rome. This era saw the development of techniques such as linear perspective, chiaroscuro (the contrast of light and shadow), and anatomical precision. Artists like Leonardo da Vinci, Michelangelo, and Raphael created masterpieces that emphasized humanism, realism, and the exploration of individual expression. The Renaissance not only transformed artistic practices but also had a profound impact on the cultural and intellectual landscape of Europe.\n",
      "\n",
      "Example 3:\n",
      "Query: How did Cubism revolutionize modern art?\n",
      "Answer: Cubism, pioneered by Pablo Picasso and Georges Braque in the early 20th century, revolutionized modern art by breaking away from traditional perspectives and representing subjects in a fragmented, abstracted form. This movement introduced the concept of depicting objects from multiple viewpoints simultaneously, challenging the conventions of realistic representation. Cubism laid the groundwork for subsequent avant-garde movements and influenced various fields, including sculpture, architecture, and literature. Its emphasis on geometric shapes and the deconstruction of form paved the way for abstract art and new ways of seeing and interpreting the world.\n",
      "\n",
      "Now use the following context items to answer the user query:\n",
      "during the Franco-Prussian War, Monet returned to \n",
      "France, making his home in a succession of \n",
      "suburban towns near Paris before settling in Giverny \n",
      "in 1883. Throughout his long career, Monet remained \n",
      "faithful to the Impressionist aim of exploring the \n",
      "changing quality of light and color in landscape. His \n",
      "series of paintings of grainstacks, Rouen Cathedral, \n",
      "and waterlilies depict speciﬁc sites under differing \n",
      "light and weather conditions.\n",
      "BIOGRAPHY\n",
      "Doncieux, Monet’s wife (compare fig. 28-2A), is at once the painter’s admirer and his muse. In the dis-\n",
      "tance are the factories and smokestacks that represent the opposite pole of life at Argenteuil. In captur-\n",
      "ing both the leisure activities of the bourgeoisie and the industrialization along the Seine in the 1870s on \n",
      "the same canvas, Manet, like Monet, was fulfilling Baudelaire’s definition of “the painter of modern life. ”\n",
      "Claude Monet in His Studio Boat  is also noteworthy as a document of Monet’s preference for \n",
      "painting outdoors (en plein air)—a radical practice at the time—in order to record his “impression” \n",
      "of the Seine by placing colors directly on a white canvas without any preliminary sketch—also a sharp\n",
      "a ﬂourishing career, producing ambitious \n",
      "landscapes in the manner of Old Masters, such as \n",
      "Claude Lorrain. But his approach to landscape and \n",
      "seascape gradually became more dramatic and \n",
      "Romantic. He toured the Continent several times, \n",
      "painting in France, Germany, Switzerland, the \n",
      "Low Countries, and Italy. In the last two decades \n",
      "of his life his painting became increasingly free, at \n",
      "times almost abstract, with detail obliterated by \n",
      "color and light.\n",
      "BIOGRAPHY\n",
      "\n",
      "Relevant passages: <extract relevant passages from the context here>\n",
      "User query: What was Claude Monet famous for?\n",
      "Answer:\n"
     ]
    }
   ],
   "source": [
    "from langchain.prompts import PromptTemplate\n",
    "\n",
    "prompt_template = PromptTemplate(\n",
    "    input_variables=[\"context\", \"question\"],\n",
    "    template=   \"\"\"Based on the following context items, please answer the query.\n",
    "Give yourself room to think by extracting relevant passages from the context before answering the query.\n",
    "Don't return the thinking, only return the answer.\n",
    "Make sure your answers are as explanatory as possible.\n",
    "Use the following examples as reference for the ideal answer style.\n",
    "\\nExample 1:\n",
    "Query: What are the key characteristics of Impressionism?\n",
    "Answer: Impressionism is an art movement that originated in the late 19th century, characterized by its focus on capturing light and its changing qualities, ordinary subject matter, and unusual visual angles. Artists like Claude Monet and Pierre-Auguste Renoir used loose brushwork and vibrant colors to depict scenes from everyday life, often painting en plein air (outdoors) to better capture the natural light and atmosphere. The movement marked a departure from the detailed, polished style of academic painting, emphasizing instead the artist's perception and the transient effects of light.\n",
    "\\nExample 2:\n",
    "Query: What is the significance of the Renaissance in art history?\n",
    "Answer: The Renaissance was a pivotal period in art history, spanning from the 14th to the 17th century, marked by a revival of interest in the classical art and culture of ancient Greece and Rome. This era saw the development of techniques such as linear perspective, chiaroscuro (the contrast of light and shadow), and anatomical precision. Artists like Leonardo da Vinci, Michelangelo, and Raphael created masterpieces that emphasized humanism, realism, and the exploration of individual expression. The Renaissance not only transformed artistic practices but also had a profound impact on the cultural and intellectual landscape of Europe.\n",
    "\\nExample 3:\n",
    "Query: How did Cubism revolutionize modern art?\n",
    "Answer: Cubism, pioneered by Pablo Picasso and Georges Braque in the early 20th century, revolutionized modern art by breaking away from traditional perspectives and representing subjects in a fragmented, abstracted form. This movement introduced the concept of depicting objects from multiple viewpoints simultaneously, challenging the conventions of realistic representation. Cubism laid the groundwork for subsequent avant-garde movements and influenced various fields, including sculpture, architecture, and literature. Its emphasis on geometric shapes and the deconstruction of form paved the way for abstract art and new ways of seeing and interpreting the world.\n",
    "\\nNow use the following context items to answer the user query:\n",
    "{context}\n",
    "\\nRelevant passages: <extract relevant passages from the context here>\n",
    "User query: {question}\n",
    "Answer:\"\"\"\n",
    ")\n",
    "\n",
    "prompt = prompt_template.format(context=context, question=query)\n",
    "print(prompt)"
   ]
  },
  {
   "cell_type": "markdown",
   "id": "b92ef1d2-9f06-4cbf-b11f-71048ed633c5",
   "metadata": {},
   "source": [
    "### Результат"
   ]
  },
  {
   "cell_type": "code",
   "execution_count": 35,
   "id": "18dc5343-fde1-40d8-a8af-697645971988",
   "metadata": {
    "scrolled": true
   },
   "outputs": [
    {
     "name": "stdout",
     "output_type": "stream",
     "text": [
      "Ответ:  Claude Monet is known for his innovative, Impressionist style of painting, which revolutionized the art world in the late 19th century. He was the founder of the Impressionist movement, along with artists such as Pierre-Auguste Renoir, Edgar Degas, and Camille Pissarro. Monet is particularly renowned for his luminous landscapes and captivating depictions of light and atmosphere. His paintings are characterized by a loose, free-flowing brushwork and an emphasis on the transient effects of nature.\n",
      "\n",
      "Monet's famous works include his series of paintings of the Rouen Cathedral, the water lily pond at Giverny, and the Haystacks series. These paintings showcase Monet's mastery of color and light, as he captures the changing qualities of nature through the course of the day or the seasons. His landscapes often include elements of abstraction, as he simplifies forms and focuses on the emotional effect of his paintings.\n",
      "\n",
      "Monet's influence on the art world was significant, inspiring artists like Vincent van Gogh and Paul Cézanne. His Impressionist style paved the way for other modern movements, such as Expressionism and Fauvism. Today, Monet's paintings continue to captivate audiences with their unique interpretation of the natural world and their enduring appeal.\n"
     ]
    }
   ],
   "source": [
    "query = 'What was Claude Monet famous for?'\n",
    "\n",
    "response = generate_text(prompt)\n",
    "print(\"Ответ:\", response)"
   ]
  },
  {
   "cell_type": "markdown",
   "id": "9a771b3a-4bdb-4b46-bc96-3345019bd7d5",
   "metadata": {},
   "source": [
    "**Вот мы и завершили реализацию RAG с использованием LangChain. Модель Mistral-7b-v0.1 успешно справилась с генерацией текста на основе заданного промпта, а LangChain продемонстрировал свою эффективность в решении задач, связанных с Retrieval-Augmented Generation. Этот подход позволяет сочетать мощь языковых моделей с точностью поиска релевантных данных, что делает его крайне полезным для множества приложений.**"
   ]
  }
 ],
 "metadata": {
  "kernelspec": {
   "display_name": "Python (cudda)",
   "language": "python",
   "name": "cudda"
  },
  "language_info": {
   "codemirror_mode": {
    "name": "ipython",
    "version": 3
   },
   "file_extension": ".py",
   "mimetype": "text/x-python",
   "name": "python",
   "nbconvert_exporter": "python",
   "pygments_lexer": "ipython3",
   "version": "3.12.5"
  }
 },
 "nbformat": 4,
 "nbformat_minor": 5
}
